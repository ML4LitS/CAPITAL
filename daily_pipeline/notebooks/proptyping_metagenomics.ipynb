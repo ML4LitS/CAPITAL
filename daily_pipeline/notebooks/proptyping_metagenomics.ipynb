{
 "cells": [
  {
   "cell_type": "code",
   "id": "initial_id",
   "metadata": {
    "collapsed": true,
    "ExecuteTime": {
     "end_time": "2024-11-12T14:37:30.910629Z",
     "start_time": "2024-11-12T14:37:30.757962Z"
    }
   },
   "source": [
    "import json\n",
    "import gzip\n",
    "from collections import defaultdict, OrderedDict, Counter\n",
    "from transformers import AutoTokenizer, pipeline\n",
    "from optimum.onnxruntime import ORTModelForTokenClassification\n",
    "import argparse\n",
    "from tqdm import tqdm\n",
    "import onnxruntime as ort\n",
    "import torch\n",
    "import pickle\n",
    "from transformers import AutoTokenizer, AutoModelForSequenceClassification\n",
    "import os\n",
    "from dotenv import load_dotenv\n",
    "from itertools import islice\n",
    "\n",
    "import warnings\n",
    "warnings.filterwarnings(\"ignore\", category=FutureWarning)\n",
    "warnings.filterwarnings(\"ignore\", category=UserWarning)\n",
    "\n",
    "\n",
    "\n",
    "\n",
    "SECTIONS_MAP = {\n",
    "    \"TITLE\": \"Title\",\n",
    "    \"ABSTRACT\": \"Abstract\",\n",
    "    \"INTRO\": \"Introduction\",\n",
    "    \"METHODS\": \"Methods\",\n",
    "    \"RESULTS\": \"Results\",\n",
    "    \"DISCUSS\": \"Discussion\",\n",
    "    \"CONCL\": \"Conclusion\",\n",
    "    \"CASE\": \"Case study\",\n",
    "    \"ACK_FUND\": \"Acknowledgments\",\n",
    "    \"AUTH_CONT\": \"Author Contributions\",\n",
    "    \"COMP_INT\": \"Competing Interests\",\n",
    "    \"ABBR\": \"Abbreviations\",\n",
    "    \"SUPPL\": \"Supplementary material\",\n",
    "    \"REF\": \"References\",\n",
    "    \"TABLE\": \"Table\",\n",
    "    \"FIGURE\": \"Figure\",\n",
    "    \"DATA SHARING STATEMENT\": \"Data Availability\",\n",
    "    \"APPENDIX\": \"Appendix\",\n",
    "    \"OTHER\": \"Other\"\n",
    "}\n",
    "\n",
    "\n",
    "\n",
    "PROVIDER = \"Metagenomics\"\n",
    "PARALLEL_ = True\n",
    "\n"
   ],
   "outputs": [],
   "execution_count": 122
  },
  {
   "metadata": {
    "ExecuteTime": {
     "end_time": "2024-11-05T15:57:07.087154Z",
     "start_time": "2024-11-05T15:57:07.060051Z"
    }
   },
   "cell_type": "code",
   "source": [
    "def get_word_position(sent_id, sentence_text, char_start):\n",
    "    \"\"\"\n",
    "    Calculate the word position based on character start index.\n",
    "    Returns a string in the format 'sent_id.word_position'.\n",
    "    \"\"\"\n",
    "    words = sentence_text.split()\n",
    "    current_char = 0\n",
    "    for idx, word in enumerate(words):\n",
    "        word_start = sentence_text.find(word, current_char)\n",
    "        if word_start == char_start:\n",
    "            return f\"{sent_id}.{idx + 1}\"\n",
    "        current_char = word_start + len(word)\n",
    "    return f\"{sent_id}.0\"  # Return 0 if position not found\n",
    "\n",
    "\n",
    "def get_prefix_postfix(sentence_text, char_start, char_end, num_words=3, max_chars=30):\n",
    "    \"\"\"\n",
    "    Extract prefix and postfix based on word positions with constraints:\n",
    "    - Returns up to `num_words` before and after the target term.\n",
    "    - Ensures each prefix and postfix does not exceed `max_chars`.\n",
    "    \"\"\"\n",
    "    words = sentence_text.split()\n",
    "    word_positions = [sentence_text.find(word) for word in words]\n",
    "\n",
    "    # Identify the word index for the starting character of the entity\n",
    "    word_index = None\n",
    "    for idx, start in enumerate(word_positions):\n",
    "        if start == char_start:\n",
    "            word_index = idx\n",
    "            break\n",
    "\n",
    "    prefix, postfix = \"\", \"\"\n",
    "    if word_index is not None:\n",
    "        # Extract prefix words up to `num_words` or `max_chars`\n",
    "        prefix_words = words[max(0, word_index - num_words):word_index]\n",
    "        prefix = ' '.join(prefix_words)\n",
    "        if len(prefix) > max_chars:\n",
    "            prefix = prefix[-max_chars:]  # Truncate to the last `max_chars` characters\n",
    "\n",
    "        # Extract postfix words up to `num_words` or `max_chars`\n",
    "        postfix_words = words[word_index + 1:word_index + 1 + num_words]\n",
    "        postfix = ' '.join(postfix_words)\n",
    "        if len(postfix) > max_chars:\n",
    "            postfix = postfix[:max_chars]  # Truncate to the first `max_chars` characters\n",
    "\n",
    "    return prefix, postfix\n",
    "\n",
    "# Helper function to batch sentences into chunks of size n\n",
    "def batch_sentences(iterable, n=4):\n",
    "    it = iter(iterable)\n",
    "    while True:\n",
    "        batch = list(islice(it, n))\n",
    "        if not batch:\n",
    "            break\n",
    "        yield batch\n",
    "\n",
    "def extract_annotation(sentence_id, sentence_text, entity, section):\n",
    "    term = sentence_text[entity['start']:entity['end']]\n",
    "    position = get_word_position(sentence_id, sentence_text, entity['start'])\n",
    "    prefix, postfix = get_prefix_postfix(sentence_text, entity['start'], entity['end'])\n",
    "    full_entity_type = entity[\"entity_group\"]\n",
    "\n",
    "    return {\n",
    "        \"type\": full_entity_type,\n",
    "        \"position\": position,\n",
    "        \"prefix\": prefix,\n",
    "        \"exact\": term,\n",
    "        \"section\": section,\n",
    "        \"postfix\": postfix\n",
    "    }\n",
    "\n",
    "# Annotate sentences in batches and count entity frequency\n",
    "def batch_annotate_sentences(sentences, section, ner_model, parallel=PARALLEL_):\n",
    "    annotations = []\n",
    "\n",
    "    if parallel:\n",
    "        # Process in batches of at least 4 sentences\n",
    "        for sentence_batch in batch_sentences(sentences, n=4):\n",
    "            batched_text = [s[\"text\"] for s in sentence_batch]\n",
    "            ner_results = ner_model(batched_text)\n",
    "\n",
    "            for i, sentence_entities in enumerate(ner_results):\n",
    "                sentence_id = sentence_batch[i][\"sent_id\"]\n",
    "                sentence_text = sentence_batch[i][\"text\"]\n",
    "                for entity in sentence_entities:\n",
    "                    annotations.append(extract_annotation(sentence_id, sentence_text, entity, section))\n",
    "    else:\n",
    "        # Process sentences individually\n",
    "        for sentence in sentences:\n",
    "            ner_results = ner_model([sentence[\"text\"]])[0]\n",
    "            sentence_id = sentence[\"sent_id\"]\n",
    "            sentence_text = sentence[\"text\"]\n",
    "            for entity in ner_results:\n",
    "                annotations.append(extract_annotation(sentence_id, sentence_text, entity, section))\n",
    "\n",
    "    return annotations\n",
    "\n",
    "def generate_tags(all_annotations):\n",
    "    \"\"\"\n",
    "    Generate tags for each annotation in all_annotations using normalize_tag for term normalization and URL generation.\n",
    "    Each annotation will have 'name' and 'uri' fields in the 'tags' list.\n",
    "    \"\"\"\n",
    "    output_annotations = []\n",
    "\n",
    "    # Generate tags for each annotation\n",
    "    for annotation in all_annotations:\n",
    "        entity_type = annotation['type']\n",
    "        term = annotation['exact']\n",
    "\n",
    "        # Normalize the term to get the URI using normalize_tag\n",
    "        uri = normalize_tag(term, entity_type)\n",
    "        \n",
    "        # Add the annotation with tags, using \"#\" if no URI was found\n",
    "        output_annotations.append({\n",
    "            \"type\": entity_type,\n",
    "            \"position\": annotation[\"position\"],\n",
    "            \"prefix\": annotation[\"prefix\"],\n",
    "            \"exact\": term,\n",
    "            \"section\": annotation[\"section\"],\n",
    "            \"postfix\": annotation[\"postfix\"],\n",
    "            \"tags\": [\n",
    "                {\n",
    "                    \"name\": term,\n",
    "                    \"uri\": uri if uri != \"#\" else \"#\"  # Use \"#\" if no valid URI is found\n",
    "                }\n",
    "            ]\n",
    "        })\n",
    "\n",
    "    return output_annotations\n",
    "\n",
    "\n",
    "\n",
    "def format_output_annotations(all_linked_annotations_, pmcid, ft_id):\n",
    "    \"\"\"\n",
    "    Formats output annotations into two JSON structures:\n",
    "    - 'match_json' for matched annotations\n",
    "    - 'non_match_json' for unmatched annotations\n",
    "    \"\"\"\n",
    "    match_annotations = []\n",
    "    non_match_annotations = []\n",
    "\n",
    "    # Separate annotations based on tags\n",
    "    for annotation in all_linked_annotations_:\n",
    "        # Check if the annotation is unmatched (name and uri are '#')\n",
    "        if annotation[\"tags\"][0][\"uri\"].endswith(\"#\"):\n",
    "            non_match_annotations.append(annotation)\n",
    "        else:\n",
    "            match_annotations.append(annotation)\n",
    "\n",
    "    # Construct final JSON outputs\n",
    "    match_json = OrderedDict()\n",
    "    non_match_json = OrderedDict()\n",
    "\n",
    "    # Add pmcid or ft_id to both match and non-match JSONs\n",
    "    if pmcid:\n",
    "        match_json[\"pmcid\"] = pmcid\n",
    "        non_match_json[\"pmcid\"] = pmcid\n",
    "    elif ft_id:\n",
    "        match_json[\"ft_id\"] = ft_id\n",
    "        non_match_json[\"ft_id\"] = ft_id\n",
    "\n",
    "    # Add provider and anns fields to each JSON\n",
    "    match_json[\"provider\"] = \"europepmc\"\n",
    "    match_json[\"anns\"] = match_annotations\n",
    "\n",
    "    non_match_json[\"provider\"] = \"europepmc\"\n",
    "    non_match_json[\"anns\"] = non_match_annotations\n",
    "\n",
    "    return match_json, non_match_json\n",
    "\n",
    "\n",
    "def count_lines_in_gzip(file_path):\n",
    "    \"\"\"Counts the lines in a gzipped file.\"\"\"\n",
    "    with gzip.open(file_path, \"rt\") as f:\n",
    "        return sum(1 for _ in f)\n"
   ],
   "id": "7e050ab85f0fd1e",
   "outputs": [],
   "execution_count": 57
  },
  {
   "metadata": {
    "ExecuteTime": {
     "end_time": "2024-11-05T16:42:53.605827Z",
     "start_time": "2024-11-05T16:42:53.534893Z"
    }
   },
   "cell_type": "code",
   "source": [
    "# Main function for processing article and generating JSONs\n",
    "def process_article_generate_jsons(article_data, parallel=PARALLEL_):\n",
    "    article_type = article_data.get(\"article_type\", \"\").lower()\n",
    "    if \"research\" not in article_type:\n",
    "        # print(article_type)\n",
    "        return None, None  # Skip non-research articles\n",
    "\n",
    "    pmcid = article_data.get(\"article_ids\", {}).get(\"pmcid\")\n",
    "    ft_id = article_data.get(\"article_ids\", {}).get(\"archive\") or article_data.get(\"article_ids\", {}).get(\"manuscript\")\n",
    "\n",
    "    if not pmcid and not ft_id:\n",
    "        return None, None  # Skip article if no pmcid or ft_id\n",
    "\n",
    "    # Retrieve and join sentences from the ABSTRACT section\n",
    "    abstract_section = article_data.get(\"sections\", {}).get(\"ABSTRACT\", [])\n",
    "    # Ensure each item in abstract_section is a string by extracting the 'text' key\n",
    "    abstract_text_list = [sentence[\"text\"] for sentence in abstract_section if \"text\" in sentence]\n",
    "    # Join the abstract text\n",
    "    abstract_text = \" \".join(abstract_text_list)\n",
    "\n",
    "    # Classify the article based on the abstract\n",
    "    predicted_label, proba = classify_sentence(abstract_text)\n",
    "\n",
    "    if predicted_label != \"metagenomics\" or (predicted_label == \"metagenomics\" and proba<0.65):\n",
    "        return None, None  # Skip NER tagging if label is \"other\"\n",
    "    \n",
    "    all_annotations = []\n",
    "    print([article_type,pmcid,predicted_label, proba])\n",
    "    # Loop through each NER model for the specified sections\n",
    "    for model in ner_models:\n",
    "        # print(model)\n",
    "        for section_key, sentences in article_data.get(\"sections\", {}).items():\n",
    "            if section_key not in [\"INTRO\", \"METHODS\", \"RESULTS\", \"DISCUSS\"]:\n",
    "                continue  # Skip all sections except the specified ones\n",
    "\n",
    "            section = SECTIONS_MAP.get(section_key, \"Other\")\n",
    "            # Pass the NER model and parallel flag to batch_annotate_sentences\n",
    "            batch_annotations = batch_annotate_sentences(sentences, section, ner_model=model, parallel=parallel)\n",
    "            if not batch_annotations:\n",
    "                continue\n",
    "\n",
    "            all_annotations.extend(batch_annotations)\n",
    "\n",
    "    # Generate tags for annotations - this includes grounded terms and grounded codes.\n",
    "    all_linked_annotations = generate_tags(all_annotations)\n",
    "    # Format matched and unmatched JSON structures\n",
    "    match_json, non_match_json = format_output_annotations(all_linked_annotations, pmcid=pmcid, ft_id=ft_id)\n",
    "\n",
    "    # Return None if both JSONs are empty or have empty 'anns' lists\n",
    "    if not match_json[\"anns\"] and not non_match_json[\"anns\"]:\n",
    "        return None, None\n",
    "\n",
    "    return match_json, non_match_json\n"
   ],
   "id": "6308602f4afb9525",
   "outputs": [],
   "execution_count": 114
  },
  {
   "metadata": {
    "ExecuteTime": {
     "end_time": "2024-11-05T16:42:53.991891Z",
     "start_time": "2024-11-05T16:42:53.958737Z"
    }
   },
   "cell_type": "code",
   "source": [
    "# Adjustments to `process_each_article` to ensure compatibility with the modified `process_article_generate_jsons`\n",
    "\n",
    "def process_each_article(input_file, output_dir):\n",
    "    # Create base output filenames based on input filename\n",
    "    input_filename = os.path.basename(input_file).replace(\".json.gz\", \"\")\n",
    "    output_file = os.path.join(output_dir, f\"{input_filename}.json\")\n",
    "    no_match_file_path = os.path.join(output_dir, \"no_matches\", f\"{input_filename}_no_match.json\")\n",
    "\n",
    "    # Count the total number of lines for the progress bar\n",
    "    total_lines = count_lines_in_gzip(input_file)\n",
    "\n",
    "    # Ensure no_matches directory exists\n",
    "    os.makedirs(os.path.join(output_dir, \"no_matches\"), exist_ok=True)\n",
    "\n",
    "    with gzip.open(input_file, \"rt\") as infile:\n",
    "        # Use tqdm with the total number of lines\n",
    "        for line in tqdm(infile, desc=\"Processing lines\", unit=\"line\", total=total_lines):\n",
    "            article_data = json.loads(line)\n",
    "\n",
    "            # Generate matched and unmatched JSONs\n",
    "            match_json, non_match_json = process_article_generate_jsons(article_data)\n",
    "\n",
    "            # Write match_json to the output file if it exists\n",
    "            if match_json and match_json[\"anns\"]:\n",
    "                with open(output_file, \"a\", encoding=\"utf-8\") as match_file:\n",
    "                    json.dump(match_json, match_file, ensure_ascii=False)\n",
    "                    match_file.write(\"\\n\")\n",
    "\n",
    "            # Write non_match_json to the no_match file if it exists\n",
    "            if non_match_json and non_match_json[\"anns\"]:\n",
    "                with open(no_match_file_path, \"a\", encoding=\"utf-8\") as no_match_file_handler:\n",
    "                    json.dump(non_match_json, no_match_file_handler, ensure_ascii=False)\n",
    "                    no_match_file_handler.write(\"\\n\")\n",
    "\n",
    "    print(f\"Processing completed. Results saved to {output_file}\")\n",
    "    print(f\"No match results saved to {no_match_file_path}\")\n",
    "\n",
    "\n",
    "\n",
    "import torch\n",
    "from torch.nn.functional import softmax\n",
    "\n",
    "def classify_sentence(sentence):\n",
    "    inputs = tokenizer(sentence, return_tensors=\"pt\", truncation=True, padding=True, max_length=512)\n",
    "    article_model.eval()\n",
    "    with torch.no_grad():\n",
    "        outputs = article_model(**inputs)\n",
    "    logits = outputs.logits\n",
    "    \n",
    "    # Calculate probabilities from logits\n",
    "    probabilities = softmax(logits, dim=1)\n",
    "    \n",
    "    # Get the predicted class and its probability\n",
    "    predicted_class = torch.argmax(logits, dim=1).item()\n",
    "    predicted_label = label_encoder.inverse_transform([predicted_class])[0]\n",
    "    predicted_probability = probabilities[0, predicted_class].item()\n",
    "    \n",
    "    return predicted_label, predicted_probability\n"
   ],
   "id": "3ea6f512e606016f",
   "outputs": [],
   "execution_count": 115
  },
  {
   "metadata": {
    "ExecuteTime": {
     "end_time": "2024-11-05T16:43:00.503068Z",
     "start_time": "2024-11-05T16:42:54.219219Z"
    }
   },
   "cell_type": "code",
   "source": [
    "    # Set ONNX runtime session options\n",
    "    session_options = ort.SessionOptions()\n",
    "    session_options.intra_op_num_threads = 1  # Limit to a single thread\n",
    "    session_options.inter_op_num_threads = 1  # Limit to a single thread\n",
    "\n",
    "    # Load environment variables\n",
    "    load_dotenv('/home/stirunag/work/github/CAPITAL/daily_pipeline/.env_paths')\n",
    "    ml_model_path = os.getenv(\"MODEL_PATH_QUANTIZED\")\n",
    "\n",
    "    # Define paths\n",
    "    article_model_path = ml_model_path + 'article_classifier/best_contrastive_binary_model_absurd-sweep-98.pth'\n",
    "    article_label_encoder_path = ml_model_path + 'article_classifier/best_label_encoder_absurd-sweep-98.pkl'\n",
    "    pretrained_model_name = \"bioformers/bioformer-8L\"\n",
    "\n",
    "    # Define paths\n",
    "    metagenomic_paths = [\n",
    "        ml_model_path + f'metagenomics/metagenomic-set-{i}_quantised' for i in range(1, 6)\n",
    "    ]\n",
    "    article_model_path = ml_model_path + 'article_classifier/best_contrastive_binary_model_absurd-sweep-98.pth'\n",
    "    article_label_encoder_path = ml_model_path + 'article_classifier/best_label_encoder_absurd-sweep-98.pkl'\n",
    "    pretrained_model_name = \"bioformers/bioformer-8L\"\n",
    "\n",
    "    # Function to load an ONNX NER model\n",
    "    def load_ner_model(model_path, session_options):\n",
    "        model = ORTModelForTokenClassification.from_pretrained(\n",
    "            model_path, file_name=\"model_quantized.onnx\", session_options=session_options\n",
    "        )\n",
    "        tokenizer = AutoTokenizer.from_pretrained(\n",
    "            model_path, model_max_length=512, batch_size=4, truncation=True\n",
    "        )\n",
    "        return pipeline(\"token-classification\", model=model, tokenizer=tokenizer, aggregation_strategy=\"max\")\n",
    "\n",
    "    # Load all NER models\n",
    "    ner_models = [load_ner_model(path, session_options) for path in metagenomic_paths]\n",
    "    print(\"All NER models loaded successfully.\")\n",
    "\n",
    "    # Load the article classifier model\n",
    "    tokenizer = AutoTokenizer.from_pretrained(pretrained_model_name)\n",
    "    article_model = AutoModelForSequenceClassification.from_pretrained(pretrained_model_name, num_labels=2)\n",
    "    article_model.load_state_dict(torch.load(article_model_path, map_location=torch.device('cpu')), strict=False)\n",
    "\n",
    "    # Load the label encoder\n",
    "    with open(article_label_encoder_path, 'rb') as f:\n",
    "        label_encoder = pickle.load(f)\n",
    "\n",
    "    print(\"Article classifier model and label encoder loaded successfully.\")\n"
   ],
   "id": "fcd0bfbd2578f545",
   "outputs": [
    {
     "name": "stdout",
     "output_type": "stream",
     "text": [
      "All NER models loaded successfully.\n"
     ]
    },
    {
     "name": "stderr",
     "output_type": "stream",
     "text": [
      "Some weights of BertForSequenceClassification were not initialized from the model checkpoint at bioformers/bioformer-8L and are newly initialized: ['classifier.weight', 'classifier.bias']\n",
      "You should probably TRAIN this model on a down-stream task to be able to use it for predictions and inference.\n"
     ]
    },
    {
     "name": "stdout",
     "output_type": "stream",
     "text": [
      "Article classifier model and label encoder loaded successfully.\n"
     ]
    }
   ],
   "execution_count": 116
  },
  {
   "metadata": {
    "ExecuteTime": {
     "end_time": "2024-11-05T16:43:00.516757Z",
     "start_time": "2024-11-05T16:43:00.513145Z"
    }
   },
   "cell_type": "code",
   "source": [
    "# Directly assign the paths\n",
    "input_path = \"/home/stirunag/work/github/CAPITAL/daily_pipeline/notebooks/data/patch_2024_10_28_0.json.gz\"  # Replace with your actual input file path\n",
    "output_path = \"/home/stirunag/work/github/CAPITAL/daily_pipeline/results/metagenomics/\"  # Replace with your actual output directory path"
   ],
   "id": "b14476a56b0df109",
   "outputs": [],
   "execution_count": 117
  },
  {
   "metadata": {
    "ExecuteTime": {
     "end_time": "2024-11-05T16:43:00.568111Z",
     "start_time": "2024-11-05T16:43:00.563160Z"
    }
   },
   "cell_type": "code",
   "source": [
    "# Check that input is a file\n",
    "if not os.path.isfile(input_path):\n",
    "    raise ValueError(f\"Expected a file for input, but got: {input_path}\")\n",
    "\n",
    "# Check if output directory exists; if not, create it\n",
    "if not os.path.isdir(output_path):\n",
    "    print(f\"Output directory '{output_path}' does not exist. Creating it.\")\n",
    "    os.makedirs(output_path, exist_ok=True)\n",
    "\n",
    "# Ensure 'no_matches' directory exists within the output directory\n",
    "no_match_dir = os.path.join(output_path, \"no_matches\")\n",
    "os.makedirs(no_match_dir, exist_ok=True)\n",
    "no_match_file_path = os.path.join(no_match_dir, \"patch_no_match.json\")\n",
    "\n"
   ],
   "id": "c4be6905e4b136cb",
   "outputs": [],
   "execution_count": 118
  },
  {
   "metadata": {
    "ExecuteTime": {
     "end_time": "2024-11-05T16:43:00.625537Z",
     "start_time": "2024-11-05T16:43:00.614981Z"
    }
   },
   "cell_type": "code",
   "source": [
    "import pandas as pd\n",
    "from pathlib import Path\n",
    "from urllib.parse import urlparse\n",
    "import requests\n",
    "\n",
    "\n",
    "def normalize_tag(trm, entity):\n",
    "    # Set default URL to \"#\" to indicate no match if no updates are made later in the function\n",
    "    ourl = \"#\"\n",
    "    \n",
    "    try:\n",
    "        if entity not in ['primer', 'kit']:\n",
    "            url = 'https://www.ebi.ac.uk/spot/zooma/v2/api/services/annotate?propertyValue=' + trm         \n",
    "            response = requests.get(url)\n",
    "            \n",
    "            # Check for successful response\n",
    "            if response.status_code == 200:\n",
    "                try:\n",
    "                    rjson = response.json()\n",
    "                    if rjson:\n",
    "                        rslt = rjson[0]\n",
    "                        lnk = rslt['_links']['olslinks'][0]\n",
    "                        gurl = lnk.get('semanticTag', [])\n",
    "                        \n",
    "                        if 'http://purl.obolibrary.org/obo/' in gurl:\n",
    "                            db_id = urlparse(gurl).path.split('/')[2:3][0]            \n",
    "                            db = db_id.split('_')[0]                       \n",
    "                            ourl = f'https://www.ebi.ac.uk/ols/ontologies/{db}/terms?iri=http%3A%2F%2Fpurl.obolibrary.org%2Fobo%2F{db_id}'           \n",
    "                        else:\n",
    "                            ourl = gurl\n",
    "                except ValueError as e:\n",
    "                    print(f\"{trm}: error - Failed to parse JSON - {e}\")\n",
    "            else:\n",
    "                print(f\"{trm}: error - HTTP status code {response.status_code}\")\n",
    "        \n",
    "        elif entity == 'kit':\n",
    "            trm = trm.replace(' ', '-')\n",
    "            ourl = 'https://www.biocompare.com/General-Search/?search=' + trm\n",
    "\n",
    "        elif entity == 'primer':\n",
    "            csvf = Path('xrf/probebase/primer_probebase.csv')\n",
    "            if csvf.exists(): \n",
    "                prmdf = pd.read_csv(csvf)\n",
    "                for p, prm in enumerate(prmdf['NAME']):\n",
    "                    if (prm in trm) or (trm == prm):\n",
    "                        ourl = list(prmdf['URL'])[p]\n",
    "                        break\n",
    "    except Exception as e:\n",
    "        print(f\"{trm}: error - {e}\")\n",
    "        pass\n",
    "\n",
    "    return ourl\n"
   ],
   "id": "c9cfe5a4ce6051b7",
   "outputs": [],
   "execution_count": 119
  },
  {
   "metadata": {
    "ExecuteTime": {
     "end_time": "2024-11-05T16:43:00.674412Z",
     "start_time": "2024-11-05T16:43:00.671793Z"
    }
   },
   "cell_type": "code",
   "source": [
    "input_file =input_path\n",
    "output_dir=output_path"
   ],
   "id": "4188fba9aed65b58",
   "outputs": [],
   "execution_count": 120
  },
  {
   "metadata": {
    "ExecuteTime": {
     "end_time": "2024-11-05T17:34:27.671142Z",
     "start_time": "2024-11-05T16:43:00.729114Z"
    }
   },
   "cell_type": "code",
   "source": [
    "input_filename = os.path.basename(input_file).replace(\".json.gz\", \"\")\n",
    "output_file_OA = os.path.join(output_dir, f\"{input_filename}_OA.json\")\n",
    "output_file_NOA = os.path.join(output_dir, f\"{input_filename}_NOA.json\")\n",
    "no_match_file_OA = os.path.join(output_dir, \"no_matches\", f\"{input_filename}_OA_no_match.json\")\n",
    "no_match_file_NOA = os.path.join(output_dir, \"no_matches\", f\"{input_filename}_NOA_no_match.json\")\n",
    "\n",
    "total_lines = count_lines_in_gzip(input_file)\n",
    "\n",
    "with gzip.open(input_file, \"rt\") as infile, \\\n",
    "     open(output_file_OA, \"w\", encoding=\"utf-8\") as outfile_OA, \\\n",
    "     open(output_file_NOA, \"w\", encoding=\"utf-8\") as outfile_NOA:\n",
    "\n",
    "    for line in tqdm(infile, desc=\"Processing lines\", unit=\"line\", total=total_lines):\n",
    "        article_data = json.loads(line)\n",
    "        open_status = article_data.get(\"open_status\", \"\")\n",
    "        suffix = \"_OA\" if open_status in [\"O\", \"OA\"] else \"_NOA\"\n",
    "\n",
    "        # Generate matched and unmatched JSONs\n",
    "        match_json, non_match_json = process_article_generate_jsons(article_data)\n",
    "\n",
    "        # Apply modifications if the article is restricted\n",
    "        if suffix == \"_NOA\":\n",
    "            if match_json:\n",
    "                match_json = modify_restricted_json(match_json, open_status)\n",
    "            if non_match_json:\n",
    "                non_match_json = modify_restricted_json(non_match_json, open_status)\n",
    "\n",
    "        # Write match_json and non_match_json to their respective files if they exist\n",
    "        if match_json and match_json[\"anns\"]:\n",
    "            output_file = outfile_OA if suffix == \"_OA\" else outfile_NOA\n",
    "            json.dump(match_json, output_file, ensure_ascii=False)\n",
    "            output_file.write(\"\\n\")\n",
    "\n",
    "        if non_match_json and non_match_json[\"anns\"]:\n",
    "            no_match_file_path = no_match_file_OA if suffix == \"_OA\" else no_match_file_NOA\n",
    "            with open(no_match_file_path, \"a\", encoding=\"utf-8\") as no_match_file:\n",
    "                json.dump(non_match_json, no_match_file, ensure_ascii=False)\n",
    "                no_match_file.write(\"\\n\")\n",
    "\n",
    "print(f\"Processing completed. OA results saved to {output_file_OA} and NOA results saved to {output_file_NOA}\")\n",
    "print(f\"No match results saved to {no_match_file_OA} and {no_match_file_NOA}\")"
   ],
   "id": "dded90665feae00",
   "outputs": [
    {
     "name": "stderr",
     "output_type": "stream",
     "text": [
      "Processing lines:   2%|▏         | 20/909 [00:01<00:50, 17.72line/s]"
     ]
    },
    {
     "name": "stdout",
     "output_type": "stream",
     "text": [
      "['research-article', '10306258', 'metagenomics', 0.6059862375259399]\n",
      "-: error - Expecting value: line 1 column 1 (char 0)\n",
      "-: error - Expecting value: line 1 column 1 (char 0)\n",
      "-: error - Expecting value: line 1 column 1 (char 0)\n"
     ]
    },
    {
     "name": "stderr",
     "output_type": "stream",
     "text": [
      "Processing lines:   4%|▍         | 39/909 [00:18<02:53,  5.01line/s]"
     ]
    },
    {
     "name": "stdout",
     "output_type": "stream",
     "text": [
      "['research-article', '10478259', 'metagenomics', 0.6599136590957642]\n"
     ]
    },
    {
     "name": "stderr",
     "output_type": "stream",
     "text": [
      "Processing lines:   4%|▍         | 39/909 [00:33<02:53,  5.01line/s]"
     ]
    },
    {
     "name": "stdout",
     "output_type": "stream",
     "text": [
      "-: error - Expecting value: line 1 column 1 (char 0)\n",
      "-: error - Expecting value: line 1 column 1 (char 0)\n"
     ]
    },
    {
     "name": "stderr",
     "output_type": "stream",
     "text": [
      "Processing lines:   5%|▍         | 41/909 [00:46<1:02:01,  4.29s/line]"
     ]
    },
    {
     "name": "stdout",
     "output_type": "stream",
     "text": [
      "['research-article', '10071977', 'metagenomics', 0.615287184715271]\n",
      "-: error - Expecting value: line 1 column 1 (char 0)\n",
      "-: error - Expecting value: line 1 column 1 (char 0)\n"
     ]
    },
    {
     "name": "stderr",
     "output_type": "stream",
     "text": [
      "Processing lines:  12%|█▏        | 105/909 [01:19<01:20,  9.94line/s] "
     ]
    },
    {
     "name": "stdout",
     "output_type": "stream",
     "text": [
      "['research-article', '11256070', 'metagenomics', 0.6321286559104919]\n"
     ]
    },
    {
     "name": "stderr",
     "output_type": "stream",
     "text": [
      "Processing lines:  12%|█▏        | 105/909 [01:33<01:20,  9.94line/s]"
     ]
    },
    {
     "name": "stdout",
     "output_type": "stream",
     "text": [
      "-: error - Expecting value: line 1 column 1 (char 0)\n",
      "-: error - Expecting value: line 1 column 1 (char 0)\n",
      "-: error - Expecting value: line 1 column 1 (char 0)\n"
     ]
    },
    {
     "name": "stderr",
     "output_type": "stream",
     "text": [
      "Processing lines:  13%|█▎        | 121/909 [02:24<17:03,  1.30s/line]  "
     ]
    },
    {
     "name": "stdout",
     "output_type": "stream",
     "text": [
      "['research-article', '10527998', 'metagenomics', 0.7855987548828125]\n"
     ]
    },
    {
     "name": "stderr",
     "output_type": "stream",
     "text": [
      "Processing lines:  15%|█▌        | 139/909 [02:45<03:02,  4.22line/s]"
     ]
    },
    {
     "name": "stdout",
     "output_type": "stream",
     "text": [
      "['research-article', '11259156', 'metagenomics', 0.6335421800613403]\n"
     ]
    },
    {
     "name": "stderr",
     "output_type": "stream",
     "text": [
      "Processing lines:  16%|█▋        | 148/909 [03:17<16:05,  1.27s/line]"
     ]
    },
    {
     "name": "stdout",
     "output_type": "stream",
     "text": [
      "['research-article', '10249757', 'metagenomics', 0.6326107382774353]\n"
     ]
    },
    {
     "name": "stderr",
     "output_type": "stream",
     "text": [
      "Processing lines:  17%|█▋        | 150/909 [04:11<1:46:23,  8.41s/line]"
     ]
    },
    {
     "name": "stdout",
     "output_type": "stream",
     "text": [
      "['research-article', '11262622', 'metagenomics', 0.6344352960586548]\n"
     ]
    },
    {
     "name": "stderr",
     "output_type": "stream",
     "text": [
      "Processing lines:  19%|█▉        | 175/909 [05:04<04:46,  2.56line/s]  "
     ]
    },
    {
     "name": "stdout",
     "output_type": "stream",
     "text": [
      "['research-article', '10516340', 'metagenomics', 0.6041818857192993]\n"
     ]
    },
    {
     "name": "stderr",
     "output_type": "stream",
     "text": [
      "Processing lines:  21%|██        | 188/909 [07:35<33:04,  2.75s/line]  "
     ]
    },
    {
     "name": "stdout",
     "output_type": "stream",
     "text": [
      "['research-article', '10361916', 'metagenomics', 0.6768805980682373]\n"
     ]
    },
    {
     "name": "stderr",
     "output_type": "stream",
     "text": [
      "Processing lines:  22%|██▏       | 200/909 [08:46<10:38,  1.11line/s]  "
     ]
    },
    {
     "name": "stdout",
     "output_type": "stream",
     "text": [
      "['research-article', '10529400', 'metagenomics', 0.7079651355743408]\n",
      "-: error - Expecting value: line 1 column 1 (char 0)\n"
     ]
    },
    {
     "name": "stderr",
     "output_type": "stream",
     "text": [
      "Processing lines:  23%|██▎       | 213/909 [09:23<04:02,  2.87line/s]  "
     ]
    },
    {
     "name": "stdout",
     "output_type": "stream",
     "text": [
      "['research-article', '11245991', 'metagenomics', 0.6220014691352844]\n",
      "2.: error - Expecting value: line 1 column 1 (char 0)\n",
      ".: error - Expecting value: line 1 column 1 (char 0)\n"
     ]
    },
    {
     "name": "stderr",
     "output_type": "stream",
     "text": [
      "Processing lines:  27%|██▋       | 242/909 [13:54<01:34,  7.07line/s]   "
     ]
    },
    {
     "name": "stdout",
     "output_type": "stream",
     "text": [
      "['research-article', '11195804', 'metagenomics', 0.6864112019538879]\n"
     ]
    },
    {
     "name": "stderr",
     "output_type": "stream",
     "text": [
      "Processing lines:  27%|██▋       | 242/909 [14:13<01:34,  7.07line/s]"
     ]
    },
    {
     "name": "stdout",
     "output_type": "stream",
     "text": [
      "/: error - Expecting value: line 1 column 1 (char 0)\n"
     ]
    },
    {
     "name": "stderr",
     "output_type": "stream",
     "text": [
      "Processing lines:  34%|███▍      | 313/909 [18:04<00:46, 12.84line/s]  "
     ]
    },
    {
     "name": "stdout",
     "output_type": "stream",
     "text": [
      "['research-article', '10484394', 'metagenomics', 0.7030308246612549]\n",
      "-: error - Expecting value: line 1 column 1 (char 0)\n"
     ]
    },
    {
     "name": "stderr",
     "output_type": "stream",
     "text": [
      "Processing lines:  34%|███▍      | 313/909 [18:23<00:46, 12.84line/s]"
     ]
    },
    {
     "name": "stdout",
     "output_type": "stream",
     "text": [
      "-: error - Expecting value: line 1 column 1 (char 0)\n"
     ]
    },
    {
     "name": "stderr",
     "output_type": "stream",
     "text": [
      "Processing lines:  37%|███▋      | 334/909 [18:46<01:47,  5.36line/s]"
     ]
    },
    {
     "name": "stdout",
     "output_type": "stream",
     "text": [
      "['research-article', '11292052', 'metagenomics', 0.6179831624031067]\n",
      ".: error - Expecting value: line 1 column 1 (char 0)\n",
      "to: error - Expecting value: line 1 column 1 (char 0)\n",
      ".: error - Expecting value: line 1 column 1 (char 0)\n"
     ]
    },
    {
     "name": "stderr",
     "output_type": "stream",
     "text": [
      "Processing lines:  40%|███▉      | 363/909 [21:07<01:35,  5.75line/s]  "
     ]
    },
    {
     "name": "stdout",
     "output_type": "stream",
     "text": [
      "['research-article', '10523879', 'metagenomics', 0.6072413921356201]\n"
     ]
    },
    {
     "name": "stderr",
     "output_type": "stream",
     "text": [
      "Processing lines:  47%|████▋     | 431/909 [23:04<01:15,  6.33line/s]  "
     ]
    },
    {
     "name": "stdout",
     "output_type": "stream",
     "text": [
      "['research-article', '11338178', 'metagenomics', 0.6383677124977112]\n"
     ]
    },
    {
     "name": "stderr",
     "output_type": "stream",
     "text": [
      "Processing lines:  50%|█████     | 455/909 [23:28<00:56,  8.10line/s]"
     ]
    },
    {
     "name": "stdout",
     "output_type": "stream",
     "text": [
      "['research-article', '10249652', 'metagenomics', 0.6696133017539978]\n"
     ]
    },
    {
     "name": "stderr",
     "output_type": "stream",
     "text": [
      "Processing lines:  52%|█████▏    | 477/909 [23:31<00:43,  9.89line/s]"
     ]
    },
    {
     "name": "stdout",
     "output_type": "stream",
     "text": [
      "['research-article', '11267293', 'metagenomics', 0.6374278664588928]\n"
     ]
    },
    {
     "name": "stderr",
     "output_type": "stream",
     "text": [
      "Processing lines:  52%|█████▏    | 477/909 [23:43<00:43,  9.89line/s]"
     ]
    },
    {
     "name": "stdout",
     "output_type": "stream",
     "text": [
      "-: error - Expecting value: line 1 column 1 (char 0)\n"
     ]
    },
    {
     "name": "stderr",
     "output_type": "stream",
     "text": [
      "Processing lines:  59%|█████▊    | 533/909 [25:16<02:38,  2.37line/s]  "
     ]
    },
    {
     "name": "stdout",
     "output_type": "stream",
     "text": [
      "['research-article', '10276171', 'metagenomics', 0.6062343716621399]\n"
     ]
    },
    {
     "name": "stderr",
     "output_type": "stream",
     "text": [
      "Processing lines:  61%|██████    | 554/909 [25:26<00:56,  6.24line/s]"
     ]
    },
    {
     "name": "stdout",
     "output_type": "stream",
     "text": [
      "['research-article', '11296043', 'metagenomics', 0.6316725611686707]\n"
     ]
    },
    {
     "name": "stderr",
     "output_type": "stream",
     "text": [
      "Processing lines:  64%|██████▎   | 578/909 [26:50<01:12,  4.55line/s]  "
     ]
    },
    {
     "name": "stdout",
     "output_type": "stream",
     "text": [
      "['research-article', '11287085', 'metagenomics', 0.6055004000663757]\n"
     ]
    },
    {
     "name": "stderr",
     "output_type": "stream",
     "text": [
      "Processing lines:  64%|██████▍   | 585/909 [27:14<09:58,  1.85s/line]"
     ]
    },
    {
     "name": "stdout",
     "output_type": "stream",
     "text": [
      "['research-article', '11312271', 'metagenomics', 0.6156858205795288]\n",
      "+: error - Expecting value: line 1 column 1 (char 0)\n",
      "+: error - Expecting value: line 1 column 1 (char 0)\n",
      "_: error - Expecting value: line 1 column 1 (char 0)\n"
     ]
    },
    {
     "name": "stderr",
     "output_type": "stream",
     "text": [
      "Processing lines:  67%|██████▋   | 605/909 [29:51<05:10,  1.02s/line]  "
     ]
    },
    {
     "name": "stdout",
     "output_type": "stream",
     "text": [
      "['research-article', '10504883', 'metagenomics', 0.6104469299316406]\n"
     ]
    },
    {
     "name": "stderr",
     "output_type": "stream",
     "text": [
      "Processing lines:  68%|██████▊   | 615/909 [30:21<04:47,  1.02line/s]"
     ]
    },
    {
     "name": "stdout",
     "output_type": "stream",
     "text": [
      "['research-article', '11308657', 'metagenomics', 0.7115412950515747]\n"
     ]
    },
    {
     "name": "stderr",
     "output_type": "stream",
     "text": [
      "Processing lines:  70%|███████   | 638/909 [32:16<00:50,  5.35line/s]  "
     ]
    },
    {
     "name": "stdout",
     "output_type": "stream",
     "text": [
      "['research-article', '11268072', 'metagenomics', 0.6654894948005676]\n"
     ]
    },
    {
     "name": "stderr",
     "output_type": "stream",
     "text": [
      "Processing lines:  74%|███████▍  | 676/909 [33:41<00:26,  8.69line/s]  "
     ]
    },
    {
     "name": "stdout",
     "output_type": "stream",
     "text": [
      "['research-article', '11292673', 'metagenomics', 0.6211218237876892]\n"
     ]
    },
    {
     "name": "stderr",
     "output_type": "stream",
     "text": [
      "Processing lines:  76%|███████▋  | 694/909 [34:20<00:51,  4.21line/s]"
     ]
    },
    {
     "name": "stdout",
     "output_type": "stream",
     "text": [
      "['research-article', '10601359', 'metagenomics', 0.6080634593963623]\n"
     ]
    },
    {
     "name": "stderr",
     "output_type": "stream",
     "text": [
      "Processing lines:  77%|███████▋  | 701/909 [34:43<04:47,  1.38s/line]"
     ]
    },
    {
     "name": "stdout",
     "output_type": "stream",
     "text": [
      "['research-article', '11308890', 'metagenomics', 0.6098644137382507]\n"
     ]
    },
    {
     "name": "stderr",
     "output_type": "stream",
     "text": [
      "Processing lines:  77%|███████▋  | 701/909 [34:53<04:47,  1.38s/line]"
     ]
    },
    {
     "name": "stdout",
     "output_type": "stream",
     "text": [
      "-: error - Expecting value: line 1 column 1 (char 0)\n"
     ]
    },
    {
     "name": "stderr",
     "output_type": "stream",
     "text": [
      "Processing lines:  77%|███████▋  | 703/909 [35:46<35:38, 10.38s/line]"
     ]
    },
    {
     "name": "stdout",
     "output_type": "stream",
     "text": [
      "['research-article', '11301353', 'metagenomics', 0.6325847506523132]\n"
     ]
    },
    {
     "name": "stderr",
     "output_type": "stream",
     "text": [
      "Processing lines:  77%|███████▋  | 703/909 [36:03<35:38, 10.38s/line]"
     ]
    },
    {
     "name": "stdout",
     "output_type": "stream",
     "text": [
      "%: error - Expecting value: line 1 column 1 (char 0)\n",
      "/: error - Expecting value: line 1 column 1 (char 0)\n",
      "-: error - Expecting value: line 1 column 1 (char 0)\n"
     ]
    },
    {
     "name": "stderr",
     "output_type": "stream",
     "text": [
      "Processing lines:  81%|████████  | 738/909 [37:11<00:36,  4.68line/s]"
     ]
    },
    {
     "name": "stdout",
     "output_type": "stream",
     "text": [
      "['research-article', '10463236', 'metagenomics', 0.6382157206535339]\n"
     ]
    },
    {
     "name": "stderr",
     "output_type": "stream",
     "text": [
      "Processing lines:  82%|████████▏ | 744/909 [37:39<05:36,  2.04s/line]"
     ]
    },
    {
     "name": "stdout",
     "output_type": "stream",
     "text": [
      "['research-article', '11309005', 'metagenomics', 0.6721659302711487]\n"
     ]
    },
    {
     "name": "stderr",
     "output_type": "stream",
     "text": [
      "Processing lines:  82%|████████▏ | 746/909 [37:55<08:47,  3.23s/line]"
     ]
    },
    {
     "name": "stdout",
     "output_type": "stream",
     "text": [
      "['research-article', '11345318', 'metagenomics', 0.7456997036933899]\n"
     ]
    },
    {
     "name": "stderr",
     "output_type": "stream",
     "text": [
      "Processing lines:  85%|████████▍ | 772/909 [39:05<00:56,  2.43line/s]"
     ]
    },
    {
     "name": "stdout",
     "output_type": "stream",
     "text": [
      "['research-article', '11352519', 'metagenomics', 0.6290491223335266]\n"
     ]
    },
    {
     "name": "stderr",
     "output_type": "stream",
     "text": [
      "Processing lines:  85%|████████▍ | 772/909 [39:23<00:56,  2.43line/s]"
     ]
    },
    {
     "name": "stdout",
     "output_type": "stream",
     "text": [
      "-: error - Expecting value: line 1 column 1 (char 0)\n",
      "/: error - Expecting value: line 1 column 1 (char 0)\n",
      "to: error - Expecting value: line 1 column 1 (char 0)\n"
     ]
    },
    {
     "name": "stderr",
     "output_type": "stream",
     "text": [
      "Processing lines:  86%|████████▋ | 786/909 [42:01<03:09,  1.54s/line]  "
     ]
    },
    {
     "name": "stdout",
     "output_type": "stream",
     "text": [
      "['research-article', '11307318', 'metagenomics', 0.6153221130371094]\n"
     ]
    },
    {
     "name": "stderr",
     "output_type": "stream",
     "text": [
      "Processing lines:  87%|████████▋ | 792/909 [43:19<08:14,  4.23s/line]"
     ]
    },
    {
     "name": "stdout",
     "output_type": "stream",
     "text": [
      "['research-article', '11333555', 'metagenomics', 0.6008540391921997]\n",
      "(: error - Expecting value: line 1 column 1 (char 0)\n",
      "and: error - Expecting value: line 1 column 1 (char 0)\n"
     ]
    },
    {
     "name": "stderr",
     "output_type": "stream",
     "text": [
      "Processing lines:  92%|█████████▏| 839/909 [46:00<00:05, 13.80line/s]  "
     ]
    },
    {
     "name": "stdout",
     "output_type": "stream",
     "text": [
      "['research-article', '11296042', 'metagenomics', 0.6165546178817749]\n"
     ]
    },
    {
     "name": "stderr",
     "output_type": "stream",
     "text": [
      "Processing lines:  96%|█████████▋| 876/909 [48:12<00:05,  5.88line/s]"
     ]
    },
    {
     "name": "stdout",
     "output_type": "stream",
     "text": [
      "['research-article', '10528547', 'metagenomics', 0.6270250082015991]\n"
     ]
    },
    {
     "name": "stderr",
     "output_type": "stream",
     "text": [
      "Processing lines:  96%|█████████▋| 876/909 [48:23<00:05,  5.88line/s]"
     ]
    },
    {
     "name": "stdout",
     "output_type": "stream",
     "text": [
      "-: error - Expecting value: line 1 column 1 (char 0)\n",
      "+: error - Expecting value: line 1 column 1 (char 0)\n",
      "-: error - Expecting value: line 1 column 1 (char 0)\n"
     ]
    },
    {
     "name": "stderr",
     "output_type": "stream",
     "text": [
      "Processing lines: 100%|██████████| 909/909 [51:26<00:00,  3.40s/line]"
     ]
    },
    {
     "name": "stdout",
     "output_type": "stream",
     "text": [
      "Processing completed. OA results saved to /home/stirunag/work/github/CAPITAL/daily_pipeline/results/metagenomics/patch_2024_10_28_0_OA.json and NOA results saved to /home/stirunag/work/github/CAPITAL/daily_pipeline/results/metagenomics/patch_2024_10_28_0_NOA.json\n",
      "No match results saved to /home/stirunag/work/github/CAPITAL/daily_pipeline/results/metagenomics/no_matches/patch_2024_10_28_0_OA_no_match.json and /home/stirunag/work/github/CAPITAL/daily_pipeline/results/metagenomics/no_matches/patch_2024_10_28_0_NOA_no_match.json\n"
     ]
    },
    {
     "name": "stderr",
     "output_type": "stream",
     "text": [
      "\n"
     ]
    }
   ],
   "execution_count": 121
  },
  {
   "metadata": {
    "ExecuteTime": {
     "end_time": "2024-11-17T23:28:10.485558Z",
     "start_time": "2024-11-17T23:28:08.382244Z"
    }
   },
   "cell_type": "code",
   "source": [
    "# path_ = '/home/stirunag/work/github/article_classifier/data/'\n",
    "# import pandas as pd\n",
    "# \n",
    "# # File path\n",
    "# \n",
    "# file_path = path_+\"final_abstracts_5000.csv\"  #\"metagenomics_abstracts.csv\"\n",
    "# \n",
    "# # Read the CSV file into a pandas DataFrame\n",
    "# data = pd.read_csv(file_path)\n",
    "# data = data.dropna(subset=['abstract'])\n",
    "# # Check the structure of the DataFrame\n",
    "# data.head()\n",
    "\n",
    "import pandas as pd\n",
    "\n",
    "# File paths\n",
    "file_path_1 = '/home/stirunag/work/github/article_classifier/data/final_abstracts_5000.csv'\n",
    "file_path_2 = '/home/stirunag/work/github/article_classifier/data/metagenomics_abstracts.csv'\n",
    "\n",
    "# Read both files into DataFrames\n",
    "data1 = pd.read_csv(file_path_1).dropna(subset=['abstract'])\n",
    "data2 = pd.read_csv(file_path_2).dropna(subset=['abstract'])\n",
    "\n",
    "# Sample size\n",
    "n = 1000  # Set your desired sample size\n",
    "\n",
    "# Adding class labels to the samples\n",
    "sample1 = data1[['abstract']].sample(n=n // 2, random_state=42).copy()\n",
    "sample1['class_label'] = 'other'\n",
    "\n",
    "sample2 = data2[['abstract']].sample(n=n // 2, random_state=42).copy()\n",
    "sample2['class_label'] = 'metagenomics'\n",
    "\n",
    "# Combine the samples into a new dataset\n",
    "data = pd.concat([sample1, sample2]).reset_index(drop=True) #.sample(frac=1, random_state=42)\n",
    "\n",
    "data\n",
    "\n"
   ],
   "id": "746941cd1d17b14a",
   "outputs": [
    {
     "data": {
      "text/plain": [
       "                                              abstract   class_label\n",
       "0    Previously we reported that LIM1863 colorectal...         other\n",
       "1    Bar-headed geese (Anser indicus) are adaptable...         other\n",
       "2    New outbreaks of human immunodeficiency virus ...         other\n",
       "3    We report new lipid-based, high-density, envir...         other\n",
       "4    <h4>Background</h4>The discovery of disease pa...         other\n",
       "..                                                 ...           ...\n",
       "995  The human gut microbiome produces a complex mi...  metagenomics\n",
       "996  Since black soldier fly larvae (BSFL, Hermetia...  metagenomics\n",
       "997  <h4>Introduction and importance</h4>Benign fib...  metagenomics\n",
       "998  Network medicine has proven useful for dissect...  metagenomics\n",
       "999  Bluetongue virus serotypes 1 to 24 are transmi...  metagenomics\n",
       "\n",
       "[1000 rows x 2 columns]"
      ],
      "text/html": [
       "<div>\n",
       "<style scoped>\n",
       "    .dataframe tbody tr th:only-of-type {\n",
       "        vertical-align: middle;\n",
       "    }\n",
       "\n",
       "    .dataframe tbody tr th {\n",
       "        vertical-align: top;\n",
       "    }\n",
       "\n",
       "    .dataframe thead th {\n",
       "        text-align: right;\n",
       "    }\n",
       "</style>\n",
       "<table border=\"1\" class=\"dataframe\">\n",
       "  <thead>\n",
       "    <tr style=\"text-align: right;\">\n",
       "      <th></th>\n",
       "      <th>abstract</th>\n",
       "      <th>class_label</th>\n",
       "    </tr>\n",
       "  </thead>\n",
       "  <tbody>\n",
       "    <tr>\n",
       "      <th>0</th>\n",
       "      <td>Previously we reported that LIM1863 colorectal...</td>\n",
       "      <td>other</td>\n",
       "    </tr>\n",
       "    <tr>\n",
       "      <th>1</th>\n",
       "      <td>Bar-headed geese (Anser indicus) are adaptable...</td>\n",
       "      <td>other</td>\n",
       "    </tr>\n",
       "    <tr>\n",
       "      <th>2</th>\n",
       "      <td>New outbreaks of human immunodeficiency virus ...</td>\n",
       "      <td>other</td>\n",
       "    </tr>\n",
       "    <tr>\n",
       "      <th>3</th>\n",
       "      <td>We report new lipid-based, high-density, envir...</td>\n",
       "      <td>other</td>\n",
       "    </tr>\n",
       "    <tr>\n",
       "      <th>4</th>\n",
       "      <td>&lt;h4&gt;Background&lt;/h4&gt;The discovery of disease pa...</td>\n",
       "      <td>other</td>\n",
       "    </tr>\n",
       "    <tr>\n",
       "      <th>...</th>\n",
       "      <td>...</td>\n",
       "      <td>...</td>\n",
       "    </tr>\n",
       "    <tr>\n",
       "      <th>995</th>\n",
       "      <td>The human gut microbiome produces a complex mi...</td>\n",
       "      <td>metagenomics</td>\n",
       "    </tr>\n",
       "    <tr>\n",
       "      <th>996</th>\n",
       "      <td>Since black soldier fly larvae (BSFL, Hermetia...</td>\n",
       "      <td>metagenomics</td>\n",
       "    </tr>\n",
       "    <tr>\n",
       "      <th>997</th>\n",
       "      <td>&lt;h4&gt;Introduction and importance&lt;/h4&gt;Benign fib...</td>\n",
       "      <td>metagenomics</td>\n",
       "    </tr>\n",
       "    <tr>\n",
       "      <th>998</th>\n",
       "      <td>Network medicine has proven useful for dissect...</td>\n",
       "      <td>metagenomics</td>\n",
       "    </tr>\n",
       "    <tr>\n",
       "      <th>999</th>\n",
       "      <td>Bluetongue virus serotypes 1 to 24 are transmi...</td>\n",
       "      <td>metagenomics</td>\n",
       "    </tr>\n",
       "  </tbody>\n",
       "</table>\n",
       "<p>1000 rows × 2 columns</p>\n",
       "</div>"
      ]
     },
     "execution_count": 151,
     "metadata": {},
     "output_type": "execute_result"
    }
   ],
   "execution_count": 151
  },
  {
   "metadata": {
    "ExecuteTime": {
     "end_time": "2024-11-17T23:28:11.414917Z",
     "start_time": "2024-11-17T23:28:10.545763Z"
    }
   },
   "cell_type": "code",
   "source": [
    "import torch\n",
    "import pickle\n",
    "from transformers import AutoTokenizer, AutoModel, AutoModelForSequenceClassification\n",
    "import torch.nn as nn\n",
    "\n",
    "\n",
    "ml_model_path = '/home/stirunag/work/github/CAPITAL/model/'\n",
    "\n",
    "# Define the custom ClassificationModel class\n",
    "class ClassificationModel(nn.Module):\n",
    "    def __init__(self, encoder, num_classes):\n",
    "        super(ClassificationModel, self).__init__()\n",
    "        self.encoder = encoder\n",
    "        self.classifier = nn.Linear(encoder.config.hidden_size, num_classes)\n",
    "\n",
    "    def forward(self, input_ids, attention_mask):\n",
    "        outputs = self.encoder(\n",
    "            input_ids=input_ids,\n",
    "            attention_mask=attention_mask\n",
    "        )\n",
    "        # Use pooler_output or the [CLS] token from the last_hidden_state\n",
    "        embeddings = (\n",
    "            outputs.pooler_output\n",
    "            if hasattr(outputs, 'pooler_output') and outputs.pooler_output is not None\n",
    "            else outputs.last_hidden_state[:, 0, :]\n",
    "        )\n",
    "\n",
    "        logits = self.classifier(embeddings)\n",
    "        return logits, embeddings\n",
    "\n",
    "\n",
    "if not ml_model_path:\n",
    "    raise ValueError(\"Environment variable 'MODEL_PATH_QUANTIZED' not found.\")\n",
    "\n",
    "# Define paths\n",
    "article_model_path = ml_model_path + 'article_classifier/best_contrastive_binary_model_absurd-sweep-98.pth'\n",
    "article_label_encoder_path = ml_model_path + 'article_classifier/best_label_encoder_absurd-sweep-98.pkl'\n",
    "pretrained_model_name = \"bioformers/bioformer-8L\"\n",
    "        \n",
    "try:\n",
    "    tokenizer = AutoTokenizer.from_pretrained(pretrained_model_name)\n",
    "    encoder = AutoModel.from_pretrained(pretrained_model_name)\n",
    "    article_model = AutoModelForSequenceClassification.from_pretrained(pretrained_model_name, num_labels=2)\n",
    "    article_model.load_state_dict(torch.load(article_model_path, map_location=torch.device('cpu')), strict=False)\n",
    "    custom_article_model = ClassificationModel(encoder=encoder, num_classes=2)\n",
    "    custom_article_model.load_state_dict(torch.load(article_model_path, map_location=torch.device('cpu')), strict=False)\n",
    "    \n",
    "    with open(article_label_encoder_path, 'rb') as f:\n",
    "        label_encoder = pickle.load(f)\n",
    "    print(\"Classes in Label Encoder:\", label_encoder.classes_)\n",
    "    print(\"Article classifier model and label encoder loaded successfully.\")\n",
    "except Exception as e:\n",
    "    raise RuntimeError(f\"Failed to load article classifier or label encoder: {str(e)}\")"
   ],
   "id": "e4debe722c13c45b",
   "outputs": [
    {
     "name": "stderr",
     "output_type": "stream",
     "text": [
      "/home/stirunag/falconframes_env/lib/python3.10/site-packages/huggingface_hub/file_download.py:797: FutureWarning: `resume_download` is deprecated and will be removed in version 1.0.0. Downloads always resume when possible. If you want to force a new download, use `force_download=True`.\n",
      "  warnings.warn(\n",
      "Some weights of BertForSequenceClassification were not initialized from the model checkpoint at bioformers/bioformer-8L and are newly initialized: ['classifier.weight', 'classifier.bias']\n",
      "You should probably TRAIN this model on a down-stream task to be able to use it for predictions and inference.\n"
     ]
    },
    {
     "name": "stdout",
     "output_type": "stream",
     "text": [
      "Classes in Label Encoder: ['metagenomics' 'other']\n",
      "Article classifier model and label encoder loaded successfully.\n"
     ]
    },
    {
     "name": "stderr",
     "output_type": "stream",
     "text": [
      "/tmp/ipykernel_3299920/2680632509.py:44: FutureWarning: You are using `torch.load` with `weights_only=False` (the current default value), which uses the default pickle module implicitly. It is possible to construct malicious pickle data which will execute arbitrary code during unpickling (See https://github.com/pytorch/pytorch/blob/main/SECURITY.md#untrusted-models for more details). In a future release, the default value for `weights_only` will be flipped to `True`. This limits the functions that could be executed during unpickling. Arbitrary objects will no longer be allowed to be loaded via this mode unless they are explicitly allowlisted by the user via `torch.serialization.add_safe_globals`. We recommend you start setting `weights_only=True` for any use case where you don't have full control of the loaded file. Please open an issue on GitHub for any issues related to this experimental feature.\n",
      "  article_model.load_state_dict(torch.load(article_model_path, map_location=torch.device('cpu')), strict=False)\n",
      "/tmp/ipykernel_3299920/2680632509.py:46: FutureWarning: You are using `torch.load` with `weights_only=False` (the current default value), which uses the default pickle module implicitly. It is possible to construct malicious pickle data which will execute arbitrary code during unpickling (See https://github.com/pytorch/pytorch/blob/main/SECURITY.md#untrusted-models for more details). In a future release, the default value for `weights_only` will be flipped to `True`. This limits the functions that could be executed during unpickling. Arbitrary objects will no longer be allowed to be loaded via this mode unless they are explicitly allowlisted by the user via `torch.serialization.add_safe_globals`. We recommend you start setting `weights_only=True` for any use case where you don't have full control of the loaded file. Please open an issue on GitHub for any issues related to this experimental feature.\n",
      "  custom_article_model.load_state_dict(torch.load(article_model_path, map_location=torch.device('cpu')), strict=False)\n",
      "/home/stirunag/falconframes_env/lib/python3.10/site-packages/sklearn/base.py:376: InconsistentVersionWarning: Trying to unpickle estimator LabelEncoder from version 1.3.2 when using version 1.5.2. This might lead to breaking code or invalid results. Use at your own risk. For more info please refer to:\n",
      "https://scikit-learn.org/stable/model_persistence.html#security-maintainability-limitations\n",
      "  warnings.warn(\n"
     ]
    }
   ],
   "execution_count": 152
  },
  {
   "metadata": {
    "ExecuteTime": {
     "end_time": "2024-11-18T10:21:19.093380Z",
     "start_time": "2024-11-18T10:21:19.074036Z"
    }
   },
   "cell_type": "code",
   "source": [
    "from transformers.modeling_outputs import SequenceClassifierOutput\n",
    "import numpy as np\n",
    "import matplotlib.pyplot as plt\n",
    "from tqdm import tqdm\n",
    "\n",
    "def classify_sentence(sentence):\n",
    "    \"\"\"\n",
    "    Classify a sentence and return the predicted label and probability.\n",
    "\n",
    "    Args:\n",
    "        sentence (str): Input sentence to classify.\n",
    "\n",
    "    Returns:\n",
    "        tuple: (predicted_label, predicted_probability)\n",
    "    \"\"\"\n",
    "    # Preprocess and tokenize the input sentence\n",
    "    inputs = tokenizer(sentence, return_tensors=\"pt\", truncation=True, padding=True, max_length=512)\n",
    "    \n",
    "    # Predict using the model\n",
    "    article_model.eval()\n",
    "    with torch.no_grad():\n",
    "        outputs = article_model(**inputs)\n",
    "    \n",
    "    # Extract logits\n",
    "    logits = outputs.logits\n",
    "    probabilities = torch.nn.functional.softmax(logits, dim=1).squeeze()  # Convert logits to probabilities\n",
    "\n",
    "    # Predicted class\n",
    "    predicted_class = torch.argmax(probabilities).item()\n",
    "    predicted_probability = probabilities[predicted_class].item()  # Probability of the predicted class\n",
    "\n",
    "    # Decode the label\n",
    "    predicted_label = label_encoder.inverse_transform([predicted_class])[0]\n",
    "    \n",
    "    return predicted_label, predicted_probability\n",
    "\n",
    "\n",
    "def classify_sentence_custom(sentence):\n",
    "    \"\"\"\n",
    "    Classify a sentence and return the predicted label and probability.\n",
    "\n",
    "    Args:\n",
    "        sentence (str): Input sentence to classify.\n",
    "\n",
    "    Returns:\n",
    "        tuple: (predicted_label, predicted_probability)\n",
    "    \"\"\"\n",
    "    # Tokenize the input sentence\n",
    "    encoding = tokenizer(\n",
    "        sentence,\n",
    "        padding='max_length',\n",
    "        truncation=True,\n",
    "        max_length=512,\n",
    "        return_tensors='pt'\n",
    "    )\n",
    "\n",
    "    input_ids = encoding[\"input_ids\"]\n",
    "    attention_mask = encoding[\"attention_mask\"]\n",
    "\n",
    "    # Predict using the model\n",
    "    article_model.eval()\n",
    "    with torch.no_grad():\n",
    "        outputs = article_model(input_ids, attention_mask)\n",
    "\n",
    "    # Extract logits\n",
    "    logits = outputs.logits if isinstance(outputs, SequenceClassifierOutput) else outputs\n",
    "\n",
    "    # Apply softmax to convert logits to probabilities\n",
    "    probabilities = torch.nn.functional.softmax(logits, dim=1).squeeze().cpu().numpy()\n",
    "\n",
    "    # Get predicted class and its probability\n",
    "    predicted_class = probabilities.argmax()  # Class index with the highest probability\n",
    "    predicted_label = label_encoder.inverse_transform([predicted_class])[0]\n",
    "    predicted_probability = probabilities[predicted_class]\n",
    "\n",
    "    return predicted_label, predicted_probability\n",
    "\n",
    "\n",
    "\n",
    "# Updated function to classify abstracts and collect results\n",
    "from sklearn.metrics import classification_report\n",
    "from tqdm import tqdm\n",
    "\n",
    "from sklearn.metrics import precision_recall_curve, classification_report\n",
    "\n",
    "def evaluate_abstracts_with_visualization(data, classifier_function):\n",
    "    \"\"\"\n",
    "    Evaluate abstracts, generate classification metrics, and visualize results.\n",
    "\n",
    "    Args:\n",
    "        data (DataFrame): Dataset containing abstracts and true labels.\n",
    "        classifier_function (function): Function to classify an abstract.\n",
    "\n",
    "    Returns:\n",
    "        dict: Classification report and visualization plots.\n",
    "    \"\"\"\n",
    "    # Store true and predicted labels\n",
    "    true_labels = []\n",
    "    predicted_probs = []\n",
    "\n",
    "    for abstract, true_label in tqdm(zip(data[\"abstract\"], data[\"class_label\"]), desc=\"Processing abstracts\", total=len(data)):\n",
    "        if abstract:\n",
    "            # Use classifier to get predicted label and probability\n",
    "            predicted_label, predicted_probability = classifier_function(abstract)\n",
    "\n",
    "            # Append true label and predicted probability\n",
    "            true_labels.append(1 if true_label == \"metagenomics\" else 0)\n",
    "            predicted_probs.append(predicted_probability)\n",
    "\n",
    "    # Convert lists to numpy arrays for easier processing\n",
    "    true_labels = np.array(true_labels)\n",
    "    predicted_probs = np.array(predicted_probs)\n",
    "\n",
    "    # Compute precision, recall, and thresholds\n",
    "    # Compute precision, recall, and thresholds for the \"metagenomics\" class\n",
    "    precision, recall, thresholds = precision_recall_curve(true_labels, predicted_probs)\n",
    "\n",
    "    # Calculate F1-scores for each threshold\n",
    "    f1_scores = 2 * (precision * recall) / (precision + recall + 1e-8)  # Avoid division by zero\n",
    "\n",
    "    # Find the threshold that maximizes F1-score\n",
    "    best_index = np.argmax(f1_scores)\n",
    "    best_threshold = thresholds[best_index] if thresholds.size > 0 else 0.5\n",
    "    best_f1_score = f1_scores[best_index]\n",
    "\n",
    "    # Generate classification report using the best threshold\n",
    "    predicted_labels = (predicted_probs >= best_threshold).astype(int)\n",
    "    report = classification_report(true_labels, predicted_labels, target_names=[\"Other\", \"Metagenomics\"], output_dict=True)\n",
    "\n",
    "    print(f\"Best Threshold: {best_threshold:.2f}\")\n",
    "    print(f\"Best F1-Score: {best_f1_score:.2f}\")\n",
    "\n",
    "    # Visualization: Probability Distribution\n",
    "    plt.figure()\n",
    "    sns.kdeplot(predicted_probs[true_labels == 1], label=\"Metagenomics\", fill=True, alpha=0.5, color=\"blue\")\n",
    "    sns.kdeplot(predicted_probs[true_labels == 0], label=\"Other\", fill=True, alpha=0.5, color=\"orange\")\n",
    "    plt.axvline(x=best_threshold, color=\"green\", linestyle=\"--\", label=f\"Best Threshold ({best_threshold:.2f})\")\n",
    "    plt.title(\"Probability Distribution\")\n",
    "    plt.xlabel(\"Probability\")\n",
    "    plt.ylabel(\"Density\")\n",
    "    plt.legend()\n",
    "    plt.show()\n",
    "\n",
    "    # Visualization: Precision-Recall vs. Threshold\n",
    "    plt.figure()\n",
    "    plt.plot(thresholds, precision[:-1], label=\"Precision\", color=\"blue\")\n",
    "    plt.plot(thresholds, recall[:-1], label=\"Recall\", color=\"orange\")\n",
    "    plt.plot(thresholds, f1_scores[:-1], label=\"F1-Score\", color=\"green\")\n",
    "    plt.axvline(x=best_threshold, color=\"red\", linestyle=\"--\", label=f\"Best Threshold ({best_threshold:.2f})\")\n",
    "    plt.title(\"Precision, Recall, and F1-Score vs. Threshold\")\n",
    "    plt.xlabel(\"Threshold\")\n",
    "    plt.ylabel(\"Score\")\n",
    "    plt.legend()\n",
    "    plt.show()\n",
    "\n",
    "    return {\n",
    "        \"classification_report\": report,\n",
    "        \"best_threshold\": best_threshold,\n",
    "        \"best_f1_score\": best_f1_score,\n",
    "        \"probabilities\": predicted_probs,\n",
    "    }\n",
    "\n",
    "\n",
    "\n",
    "\n"
   ],
   "id": "e30f12e2bae9e4a5",
   "outputs": [],
   "execution_count": 161
  },
  {
   "metadata": {
    "ExecuteTime": {
     "end_time": "2024-11-18T10:22:53.144491Z",
     "start_time": "2024-11-18T10:21:20.018453Z"
    }
   },
   "cell_type": "code",
   "source": "results_auto = evaluate_abstracts_with_visualization(data, classify_sentence)",
   "id": "df95b6284a0f42d9",
   "outputs": [
    {
     "name": "stderr",
     "output_type": "stream",
     "text": [
      "Processing abstracts: 100%|██████████| 1000/1000 [01:32<00:00, 10.81it/s]\n"
     ]
    },
    {
     "name": "stdout",
     "output_type": "stream",
     "text": [
      "Best Threshold: 0.50\n",
      "Best F1-Score: 0.67\n"
     ]
    },
    {
     "data": {
      "text/plain": [
       "<Figure size 640x480 with 1 Axes>"
      ],
      "image/png": "[encoded data removed]"
     },
     "metadata": {},
     "output_type": "display_data"
    },
    {
     "data": {
      "text/plain": [
       "<Figure size 640x480 with 1 Axes>"
      ],
      "image/png": "[encoded data removed]"
     },
     "metadata": {},
     "output_type": "display_data"
    }
   ],
   "execution_count": 162
  },
  {
   "metadata": {
    "ExecuteTime": {
     "end_time": "2024-11-18T10:38:50.647942Z",
     "start_time": "2024-11-18T10:38:50.641280Z"
    }
   },
   "cell_type": "code",
   "source": "pprint(results_auto['classification_report'])",
   "id": "b62eb7ae3e349044",
   "outputs": [
    {
     "name": "stdout",
     "output_type": "stream",
     "text": [
      "{'Metagenomics': {'f1-score': 0.6684599865501009,\n",
      "                  'precision': 0.5035460992907801,\n",
      "                  'recall': 0.994,\n",
      "                  'support': 500.0},\n",
      " 'Other': {'f1-score': 0.03898635477582846,\n",
      "           'precision': 0.7692307692307693,\n",
      "           'recall': 0.02,\n",
      "           'support': 500.0},\n",
      " 'accuracy': 0.507,\n",
      " 'macro avg': {'f1-score': 0.35372317066296466,\n",
      "               'precision': 0.6363884342607746,\n",
      "               'recall': 0.507,\n",
      "               'support': 1000.0},\n",
      " 'weighted avg': {'f1-score': 0.35372317066296466,\n",
      "                  'precision': 0.6363884342607747,\n",
      "                  'recall': 0.507,\n",
      "                  'support': 1000.0}}\n"
     ]
    }
   ],
   "execution_count": 167
  },
  {
   "metadata": {
    "ExecuteTime": {
     "end_time": "2024-11-18T10:25:49.260733Z",
     "start_time": "2024-11-18T10:23:01.847970Z"
    }
   },
   "cell_type": "code",
   "source": "results_custom = evaluate_abstracts_with_visualization(data, classify_sentence_custom)",
   "id": "3420e15b1414d8a5",
   "outputs": [
    {
     "name": "stderr",
     "output_type": "stream",
     "text": [
      "Processing abstracts: 100%|██████████| 1000/1000 [02:46<00:00,  5.99it/s]\n"
     ]
    },
    {
     "name": "stdout",
     "output_type": "stream",
     "text": [
      "Best Threshold: 0.50\n",
      "Best F1-Score: 0.67\n"
     ]
    },
    {
     "data": {
      "text/plain": [
       "<Figure size 640x480 with 1 Axes>"
      ],
      "image/png": "[encoded data removed]"
     },
     "metadata": {},
     "output_type": "display_data"
    },
    {
     "data": {
      "text/plain": [
       "<Figure size 640x480 with 1 Axes>"
      ],
      "image/png": "[encoded data removed]"
     },
     "metadata": {},
     "output_type": "display_data"
    }
   ],
   "execution_count": 163
  },
  {
   "metadata": {
    "ExecuteTime": {
     "end_time": "2024-11-18T10:39:34.897601Z",
     "start_time": "2024-11-18T10:39:34.892854Z"
    }
   },
   "cell_type": "code",
   "source": "pprint(results_custom['classification_report'])",
   "id": "9a6eebe85a17b7f3",
   "outputs": [
    {
     "name": "stdout",
     "output_type": "stream",
     "text": [
      "{'Metagenomics': {'f1-score': 0.6684599865501009,\n",
      "                  'precision': 0.5035460992907801,\n",
      "                  'recall': 0.994,\n",
      "                  'support': 500.0},\n",
      " 'Other': {'f1-score': 0.03898635477582846,\n",
      "           'precision': 0.7692307692307693,\n",
      "           'recall': 0.02,\n",
      "           'support': 500.0},\n",
      " 'accuracy': 0.507,\n",
      " 'macro avg': {'f1-score': 0.35372317066296466,\n",
      "               'precision': 0.6363884342607746,\n",
      "               'recall': 0.507,\n",
      "               'support': 1000.0},\n",
      " 'weighted avg': {'f1-score': 0.35372317066296466,\n",
      "                  'precision': 0.6363884342607747,\n",
      "                  'recall': 0.507,\n",
      "                  'support': 1000.0}}\n"
     ]
    }
   ],
   "execution_count": 168
  },
  {
   "metadata": {
    "ExecuteTime": {
     "end_time": "2024-11-17T23:35:32.373752Z",
     "start_time": "2024-11-17T23:35:32.367807Z"
    }
   },
   "cell_type": "code",
   "source": [
    "def classify_batch(sentences):\n",
    "    \"\"\"\n",
    "    Classify a batch of sentences and return the predicted labels and probabilities.\n",
    "\n",
    "    Args:\n",
    "        sentences (list of str): List of input sentences to classify.\n",
    "\n",
    "    Returns:\n",
    "        tuple: (predicted_labels, predicted_probabilities)\n",
    "    \"\"\"\n",
    "    # Preprocess and tokenize the input sentences\n",
    "    inputs = tokenizer(sentences, return_tensors=\"pt\", truncation=True, padding=True, max_length=512)\n",
    "\n",
    "    # Predict using the model\n",
    "    article_model.eval()\n",
    "    with torch.no_grad():\n",
    "        outputs = article_model(**inputs)\n",
    "\n",
    "    # Extract logits\n",
    "    logits = outputs.logits\n",
    "\n",
    "    # Apply softmax to convert logits to probabilities\n",
    "    probabilities = torch.nn.functional.softmax(logits, dim=1)\n",
    "\n",
    "    # Predicted classes and probabilities\n",
    "    predicted_classes = torch.argmax(probabilities, dim=1).tolist()\n",
    "    predicted_probabilities = probabilities.max(dim=1).values.tolist()\n",
    "\n",
    "    # Decode labels\n",
    "    predicted_labels = label_encoder.inverse_transform(predicted_classes)\n",
    "\n",
    "    return predicted_labels, predicted_probabilities\n"
   ],
   "id": "74a724a652b21b05",
   "outputs": [],
   "execution_count": 157
  },
  {
   "metadata": {
    "ExecuteTime": {
     "end_time": "2024-11-17T23:35:49.646505Z",
     "start_time": "2024-11-17T23:35:49.633245Z"
    }
   },
   "cell_type": "code",
   "source": [
    "def evaluate_abstracts_with_visualization_batch(data, classifier_function, batch_size=16):\n",
    "    \"\"\"\n",
    "    Evaluate abstracts, generate classification metrics, and visualize results.\n",
    "\n",
    "    Args:\n",
    "        data (DataFrame): Dataset containing abstracts and true labels.\n",
    "        classifier_function (function): Function to classify a batch of abstracts.\n",
    "        batch_size (int): Number of abstracts to process in a single batch.\n",
    "\n",
    "    Returns:\n",
    "        dict: Classification report and visualization plots.\n",
    "    \"\"\"\n",
    "    # Store true and predicted labels\n",
    "    true_labels = []\n",
    "    predicted_probs = []\n",
    "\n",
    "    # Iterate through the data in batches\n",
    "    for i in tqdm(range(0, len(data), batch_size), desc=\"Processing abstracts\"):\n",
    "        batch = data[\"abstract\"].iloc[i:i + batch_size].tolist()\n",
    "        true_labels_batch = data[\"class_label\"].iloc[i:i + batch_size].tolist()\n",
    "\n",
    "        if batch:\n",
    "            # Use classifier to get predicted labels and probabilities for the batch\n",
    "            predicted_labels, predicted_probabilities = classifier_function(batch)\n",
    "\n",
    "            # Append true labels and predicted probabilities\n",
    "            true_labels.extend([1 if label == \"metagenomics\" else 0 for label in true_labels_batch])\n",
    "            predicted_probs.extend(predicted_probabilities)\n",
    "\n",
    "    # Convert lists to numpy arrays for easier processing\n",
    "    true_labels = np.array(true_labels)\n",
    "    predicted_probs = np.array(predicted_probs)\n",
    "\n",
    "    # Compute precision, recall, and thresholds\n",
    "    precision, recall, thresholds = precision_recall_curve(true_labels, predicted_probs)\n",
    "\n",
    "    # Calculate F1-scores for each threshold\n",
    "    f1_scores = 2 * (precision * recall) / (precision + recall + 1e-8)  # Avoid division by zero\n",
    "\n",
    "    # Find the threshold that maximizes F1-score\n",
    "    best_index = np.argmax(f1_scores)\n",
    "    best_threshold = thresholds[best_index] if thresholds.size > 0 else 0.5\n",
    "    best_f1_score = f1_scores[best_index]\n",
    "\n",
    "    # Generate classification report using the best threshold\n",
    "    predicted_labels = (predicted_probs >= best_threshold).astype(int)\n",
    "    report = classification_report(true_labels, predicted_labels, target_names=[\"Other\", \"Metagenomics\"], output_dict=True)\n",
    "\n",
    "    print(f\"Best Threshold: {best_threshold:.2f}\")\n",
    "    print(f\"Best F1-Score: {best_f1_score:.2f}\")\n",
    "\n",
    "    # Visualization: Probability Distribution\n",
    "    plt.figure()\n",
    "    sns.kdeplot(predicted_probs[true_labels == 1], label=\"Metagenomics\", fill=True, alpha=0.5, color=\"blue\")\n",
    "    sns.kdeplot(predicted_probs[true_labels == 0], label=\"Other\", fill=True, alpha=0.5, color=\"orange\")\n",
    "    plt.axvline(x=best_threshold, color=\"green\", linestyle=\"--\", label=f\"Best Threshold ({best_threshold:.2f})\")\n",
    "    plt.title(\"Probability Distribution\")\n",
    "    plt.xlabel(\"Probability\")\n",
    "    plt.ylabel(\"Density\")\n",
    "    plt.legend()\n",
    "    plt.show()\n",
    "\n",
    "    # Visualization: Precision-Recall vs. Threshold\n",
    "    plt.figure()\n",
    "    plt.plot(thresholds, precision[:-1], label=\"Precision\", color=\"blue\")\n",
    "    plt.plot(thresholds, recall[:-1], label=\"Recall\", color=\"orange\")\n",
    "    plt.plot(thresholds, f1_scores[:-1], label=\"F1-Score\", color=\"green\")\n",
    "    plt.axvline(x=best_threshold, color=\"red\", linestyle=\"--\", label=f\"Best Threshold ({best_threshold:.2f})\")\n",
    "    plt.title(\"Precision, Recall, and F1-Score vs. Threshold\")\n",
    "    plt.xlabel(\"Threshold\")\n",
    "    plt.ylabel(\"Score\")\n",
    "    plt.legend()\n",
    "    plt.show()\n",
    "\n",
    "    return {\n",
    "        \"classification_report\": report,\n",
    "        \"best_threshold\": best_threshold,\n",
    "        \"best_f1_score\": best_f1_score,\n",
    "        \"probabilities\": predicted_probs,\n",
    "    }\n"
   ],
   "id": "efeea541c8161fcf",
   "outputs": [],
   "execution_count": 158
  },
  {
   "metadata": {
    "ExecuteTime": {
     "end_time": "2024-11-17T23:38:48.784286Z",
     "start_time": "2024-11-17T23:36:02.630489Z"
    }
   },
   "cell_type": "code",
   "source": [
    "results = evaluate_abstracts_with_visualization(data, classify_batch, batch_size=16)\n",
    "\n",
    "# Print the best threshold and F1-score\n",
    "print(\"Best Threshold:\", results[\"best_threshold\"])\n",
    "print(\"Best F1-Score:\", results[\"best_f1_score\"])\n",
    "\n",
    "# Print the classification report\n",
    "from pprint import pprint\n",
    "pprint(results[\"classification_report\"])\n"
   ],
   "id": "1c8930b718c3c1b2",
   "outputs": [
    {
     "name": "stderr",
     "output_type": "stream",
     "text": [
      "Processing abstracts: 100%|██████████| 63/63 [02:45<00:00,  2.63s/it]\n"
     ]
    },
    {
     "name": "stdout",
     "output_type": "stream",
     "text": [
      "Best Threshold: 0.50\n",
      "Best F1-Score: 0.67\n"
     ]
    },
    {
     "data": {
      "text/plain": [
       "<Figure size 640x480 with 1 Axes>"
      ],
      "image/png": "[encoded data removed]"
     },
     "metadata": {},
     "output_type": "display_data"
    },
    {
     "data": {
      "text/plain": [
       "<Figure size 640x480 with 1 Axes>"
      ],
      "image/png": "[encoded data removed]"
     },
     "metadata": {},
     "output_type": "display_data"
    },
    {
     "name": "stdout",
     "output_type": "stream",
     "text": [
      "Best Threshold: 0.5017176270484924\n",
      "Best F1-Score: 0.6684599820863987\n",
      "{'Metagenomics': {'f1-score': 0.6684599865501009,\n",
      "                  'precision': 0.5035460992907801,\n",
      "                  'recall': 0.994,\n",
      "                  'support': 500.0},\n",
      " 'Other': {'f1-score': 0.03898635477582846,\n",
      "           'precision': 0.7692307692307693,\n",
      "           'recall': 0.02,\n",
      "           'support': 500.0},\n",
      " 'accuracy': 0.507,\n",
      " 'macro avg': {'f1-score': 0.35372317066296466,\n",
      "               'precision': 0.6363884342607746,\n",
      "               'recall': 0.507,\n",
      "               'support': 1000.0},\n",
      " 'weighted avg': {'f1-score': 0.35372317066296466,\n",
      "                  'precision': 0.6363884342607747,\n",
      "                  'recall': 0.507,\n",
      "                  'support': 1000.0}}\n"
     ]
    }
   ],
   "execution_count": 159
  },
  {
   "metadata": {
    "ExecuteTime": {
     "end_time": "2024-11-20T23:22:40.839296Z",
     "start_time": "2024-11-20T23:22:40.451064Z"
    }
   },
   "cell_type": "code",
   "source": [
    "import requests\n",
    "\n",
    "# ZOOMA API base URL\n",
    "api_url = \"https://www.ebi.ac.uk/spot/zooma/v2/api/services/annotate\"\n",
    "\n",
    "# List of terms to map\n",
    "terms = [\"heart disease\", \"diabetes\", \"blood pressure\"]\n",
    "\n",
    "# Convert the list of terms into query parameters\n",
    "query_params = {\"propertyValue\": \",\".join(terms)}\n",
    "\n",
    "# Send the GET request\n",
    "response = requests.get(api_url, params=query_params)\n",
    "\n",
    "# Check the response\n",
    "if response.status_code == 200:\n",
    "    print(\"Ontology mappings:\")\n",
    "    print(response.json())  # Print JSON mappings\n",
    "else:\n",
    "    print(f\"Failed to fetch mappings. Status code: {response.status_code}\")\n",
    "    print(\"Response:\", response.text)\n"
   ],
   "id": "d4c302ddbfc29163",
   "outputs": [
    {
     "name": "stdout",
     "output_type": "stream",
     "text": [
      "Ontology mappings:\n",
      "[{'uri': None, 'annotatedProperty': {'uri': None, 'propertyType': None, 'propertyValue': 'abnormal systemic arterial blood pressure'}, '_links': {'olslinks': [{'href': 'https://www.ebi.ac.uk/ols4/api/terms?iri=http%3A%2F%2Fpurl.obolibrary.org%2Fobo%2FMP_0000230', 'semanticTag': 'http://purl.obolibrary.org/obo/MP_0000230'}]}, 'semanticTags': ['http://purl.obolibrary.org/obo/MP_0000230'], 'replacedBy': [], 'replaces': [], 'derivedFrom': {'uri': 'http://rdf.ebi.ac.uk/resource/zooma/annotation_summary/OLS', 'annotatedProperty': {'uri': None, 'propertyType': None, 'propertyValue': 'abnormal systemic arterial blood pressure'}, '_links': {'olslinks': [{'href': 'http://purl.obolibrary.org/obo/MP_0000230', 'semanticTag': 'http://purl.obolibrary.org/obo/MP_0000230'}]}, 'semanticTags': ['http://purl.obolibrary.org/obo/MP_0000230'], 'replacedBy': [], 'replaces': [], 'annotatedBiologicalEntities': [], 'provenance': {'source': {'type': 'ONTOLOGY', 'name': 'http://purl.obolibrary.org/obo/upheno.owl', 'uri': 'http://purl.obolibrary.org/obo/upheno.owl'}, 'evidence': 'COMPUTED_FROM_ONTOLOGY', 'accuracy': None, 'generator': 'http://purl.obolibrary.org/obo/upheno.owl', 'generatedDate': None, 'annotator': None, 'annotationDate': None}}, 'confidence': 'GOOD', 'annotatedBiologicalEntities': [], 'provenance': {'source': {'type': 'DATABASE', 'name': 'zooma', 'uri': 'www.ebi.ac.uk/spot/zooma'}, 'evidence': 'COMPUTED_FROM_TEXT_MATCH', 'accuracy': None, 'generator': 'ZOOMA', 'generatedDate': 1732144960805, 'annotator': 'ZOOMA', 'annotationDate': 1732144960805}}]\n"
     ]
    }
   ],
   "execution_count": 170
  },
  {
   "metadata": {
    "ExecuteTime": {
     "end_time": "2024-11-22T19:45:28.436896Z",
     "start_time": "2024-11-22T19:45:28.033692Z"
    }
   },
   "cell_type": "code",
   "source": [
    "import requests\n",
    "from concurrent.futures import ThreadPoolExecutor\n",
    "\n",
    "def fetch_zooma_mapping(term):\n",
    "    \"\"\"\n",
    "    Fetch ontology mapping for a single term from the ZOOMA API.\n",
    "\n",
    "    Args:\n",
    "        term (str): The term to map.\n",
    "\n",
    "    Returns:\n",
    "        tuple: A tuple containing the term and its corresponding URI.\n",
    "    \"\"\"\n",
    "    url = \"https://www.ebi.ac.uk/spot/zooma/v2/api/services/annotate\"\n",
    "    try:\n",
    "        params = {'propertyValue': term}\n",
    "        response = requests.get(url, params=params, timeout=10)\n",
    "        if response.status_code == 200:\n",
    "            rjson = response.json()\n",
    "            if rjson:\n",
    "                # Assuming we take the first result\n",
    "                result = rjson[0]\n",
    "                links = result.get(\"_links\", {}).get(\"olslinks\", [])\n",
    "                if links:\n",
    "                    return term, links[0].get(\"semanticTag\", \"#\")\n",
    "        return term, \"#\"\n",
    "    except requests.exceptions.RequestException as e:\n",
    "        print(f\"Error fetching term '{term}': {e}\")\n",
    "        return term, \"#\"\n",
    "\n",
    "def get_batch_mappings_from_zooma(terms, max_workers=5):\n",
    "    \"\"\"\n",
    "    Fetch ontology mappings for a list of terms from the ZOOMA API using parallel requests.\n",
    "\n",
    "    Args:\n",
    "        terms (list): List of terms to map.\n",
    "        max_workers (int): Number of threads for parallel requests.\n",
    "\n",
    "    Returns:\n",
    "        dict: A dictionary with terms as keys and their corresponding URIs as values.\n",
    "    \"\"\"\n",
    "    term_uris = {}\n",
    "    with ThreadPoolExecutor(max_workers=max_workers) as executor:\n",
    "        results = executor.map(fetch_zooma_mapping, terms)\n",
    "        term_uris = {term: uri for term, uri in results}\n",
    "    return term_uris\n",
    "\n",
    "# Test terms\n",
    "terms = ['covid19', 'december', 'heart disease', 'diabetes', 'blood pressure', 'biopsy']\n",
    "results = get_batch_mappings_from_zooma(terms)\n",
    "\n",
    "# Print the results\n",
    "for term, uri in results.items():\n",
    "    print(f\"Term: {term}, URI: {uri}\")\n"
   ],
   "id": "543839b13d94fb7f",
   "outputs": [
    {
     "name": "stdout",
     "output_type": "stream",
     "text": [
      "Term: covid19, URI: http://purl.obolibrary.org/obo/MONDO_0100096\n",
      "Term: december, URI: http://purl.obolibrary.org/obo/NCIT_C106192\n",
      "Term: heart disease, URI: http://www.ebi.ac.uk/efo/EFO_0003777\n",
      "Term: diabetes, URI: http://www.ebi.ac.uk/efo/EFO_0000400\n",
      "Term: blood pressure, URI: http://www.ebi.ac.uk/efo/EFO_0004325\n",
      "Term: biopsy, URI: http://www.ebi.ac.uk/efo/EFO_0009120\n"
     ]
    }
   ],
   "execution_count": 190
  },
  {
   "metadata": {
    "ExecuteTime": {
     "end_time": "2024-11-22T19:45:06.345775Z",
     "start_time": "2024-11-22T19:45:05.930354Z"
    }
   },
   "cell_type": "code",
   "source": "get_batch_mappings_from_zooma(terms)",
   "id": "b56c4a73459abd00",
   "outputs": [
    {
     "data": {
      "text/plain": [
       "{'covid19': ('http://purl.obolibrary.org/obo/MONDO_0100096', 'COVID19'),\n",
       " 'december': ('http://purl.obolibrary.org/obo/NCIT_C106192', 'December'),\n",
       " 'heart disease': ('http://www.ebi.ac.uk/efo/EFO_0003777', 'heart disease'),\n",
       " 'diabetes': ('http://www.ebi.ac.uk/efo/EFO_0000400', 'diabetes'),\n",
       " 'blood pressure': ('http://www.ebi.ac.uk/efo/EFO_0004325', 'Blood pressure'),\n",
       " 'biopsy': ('http://www.ebi.ac.uk/efo/EFO_0009120', 'biopsy'),\n",
       " 'InDiA': ('http://purl.obolibrary.org/obo/NCIT_C16727', 'India')}"
      ]
     },
     "execution_count": 189,
     "metadata": {},
     "output_type": "execute_result"
    }
   ],
   "execution_count": 189
  },
  {
   "metadata": {
    "ExecuteTime": {
     "end_time": "2024-11-22T18:50:42.353730Z",
     "start_time": "2024-11-22T18:50:42.350397Z"
    }
   },
   "cell_type": "code",
   "source": "",
   "id": "32912de06a07f847",
   "outputs": [],
   "execution_count": null
  },
  {
   "metadata": {},
   "cell_type": "code",
   "outputs": [],
   "execution_count": null,
   "source": "",
   "id": "bb827208ec813005"
  }
 ],
 "metadata": {
  "kernelspec": {
   "display_name": "Python 3",
   "language": "python",
   "name": "python3"
  },
  "language_info": {
   "codemirror_mode": {
    "name": "ipython",
    "version": 2
   },
   "file_extension": ".py",
   "mimetype": "text/x-python",
   "name": "python",
   "nbconvert_exporter": "python",
   "pygments_lexer": "ipython2",
   "version": "2.7.6"
  }
 },
 "nbformat": 4,
 "nbformat_minor": 5
}
