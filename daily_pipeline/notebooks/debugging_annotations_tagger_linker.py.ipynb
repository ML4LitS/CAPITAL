{
 "cells": [
  {
   "cell_type": "code",
   "id": "initial_id",
   "metadata": {
    "collapsed": true,
    "ExecuteTime": {
     "end_time": "2024-11-26T15:07:12.640595Z",
     "start_time": "2024-11-26T15:07:12.627391Z"
    }
   },
   "source": [
    "import os\n",
    "\n",
    "import sys\n",
    "from pathlib import Path\n",
    "import json\n",
    "# Add the parent directory to the sys.path\n",
    "sys.path.append(str(Path('/home/stirunag/work/github/CAPITAL/daily_pipeline/lib/python_scripts/').resolve()))\n",
    "\n",
    "\n",
    "from collections import defaultdict, OrderedDict, Counter\n",
    "import onnxruntime as ort\n",
    "# from entity_linker import EntityLinker\n",
    "from entity_tagger import count_lines_in_gzip, load_ner_model, batch_annotate_sentences, format_output_annotations, SECTIONS_MAP, extract_annotation\n",
    "from tqdm import tqdm\n",
    "import gzip\n",
    "import warnings\n",
    "warnings.filterwarnings(\"ignore\", category=FutureWarning)\n",
    "warnings.filterwarnings(\"ignore\", category=UserWarning)\n",
    "\n",
    "\n",
    "PROVIDER = \"europepmc\"\n",
    "\n",
    "# Mapping from abbreviation to full form\n",
    "ENTITY_TYPE_MAP_1 = {\n",
    "    \"EM\": \"exp_methods\", #methods\n",
    "    \"DS\": \"disease\",\n",
    "    \"GP\": \"gene_protein\",\n",
    "    \"GO\": \"go_term\",\n",
    "    \"CD\": \"chemical\",\n",
    "    \"OG\": \"organism\"\n",
    "}\n",
    "\n",
    "\n",
    "# Helper Functions\n",
    "def map_entity_type(abbrev, ENTITY_TYPE_MAP):\n",
    "    \"\"\"Map abbreviation to full form.\"\"\"\n",
    "    return ENTITY_TYPE_MAP.get(abbrev, abbrev.lower())\n",
    "\n",
    "\n",
    "# Main function for processing article and generating JSONs\n",
    "def process_article_generate_jsons(article_data):\n",
    "    missing_ids = ['10291433',\n",
    "   '10330421',\n",
    "   '10330426',\n",
    "   '10440280',\n",
    "   '10449263',\n",
    "   '10449359',\n",
    "   '10449729',\n",
    "   '10450820',\n",
    "   '10451015',\n",
    "   '10451022',\n",
    "   '10454977',\n",
    "   '10460088',\n",
    "   '10470160',\n",
    "   '10491428',\n",
    "   '10524293',\n",
    "   '10524363',\n",
    "   '10524625',\n",
    "   '10524694',\n",
    "   '10524698',\n",
    "   '10524704',\n",
    "   '10525037',\n",
    "   '10525040',\n",
    "   '10526653',\n",
    "   '10526679',\n",
    "   '10526694',\n",
    "   '10526894',\n",
    "   '10527009',\n",
    "   '10527090',\n",
    "   '10527205',\n",
    "   '10527225',\n",
    "   '10527239',\n",
    "   '10527335',\n",
    "   '10529678',\n",
    "   '10534201',\n",
    "   '10561377',\n",
    "   '10561594',\n",
    "   '10563766',\n",
    "   '10588561',\n",
    "   '10625673',\n",
    "   '10633838',\n",
    "   '10857745',\n",
    "   '10964084',\n",
    "   '10964087',\n",
    "   '10964088',\n",
    "   '11133230',\n",
    "   '11249782',\n",
    "   '11291147',\n",
    "   '11291532',\n",
    "   '11291533',\n",
    "   '11291551',\n",
    "   '11297017',\n",
    "   '11299584',\n",
    "   '11300006',\n",
    "   '11302177',\n",
    "   '11302463',\n",
    "   '11303546',\n",
    "   '11303627',\n",
    "   '11303630',\n",
    "   '11303633',\n",
    "   '11303731',\n",
    "   '11307538',\n",
    "   '11309959',\n",
    "   '11309961',\n",
    "   '11309984',\n",
    "   '11310698',\n",
    "   '11311446',\n",
    "   '11312964',\n",
    "   '11316869',\n",
    "   '11316967',\n",
    "   '11318990',\n",
    "   '11319009',\n",
    "   '11319015',\n",
    "   '11319022',\n",
    "   '11322925',\n",
    "   '11325299',\n",
    "   '11328371',\n",
    "   '11328608',\n",
    "   '11331836',\n",
    "   '11333931',\n",
    "   '11333948',\n",
    "   '11333955',\n",
    "   '11334057',\n",
    "   '11337674',\n",
    "   '11338587',\n",
    "   '11340714',\n",
    "   '11342024',\n",
    "   '11342626',\n",
    "   '11344235',\n",
    "   '11349501',\n",
    "   '11349506',\n",
    "   '11349507',\n",
    "   '11349508',\n",
    "   '11352890',\n",
    "   '11376101']\n",
    "    \n",
    "    pmcid = article_data.get(\"article_ids\", {}).get(\"pmcid\")\n",
    "    ft_id = article_data.get(\"article_ids\", {}).get(\"archive\") or article_data.get(\"article_ids\", {}).get(\"manuscript\")\n",
    "\n",
    "    if not pmcid and not ft_id:\n",
    "        return None, None  # Skip article if no pmcid or ft_id\n",
    "\n",
    "    if pmcid in missing_ids or ft_id in missing_ids:\n",
    "        print(pmcid, ft_id)\n",
    "        all_annotations = []\n",
    "        for section_key, sentences in article_data.get(\"sections\", {}).items():\n",
    "            if section_key == \"REF\":\n",
    "                continue  # Skip processing this section\n",
    "            section = SECTIONS_MAP.get(section_key, \"Other\")\n",
    "    \n",
    "            # Pass the parallel flag to batch_annotate_sentences\n",
    "            batch_annotations = batch_annotate_sentences(sentences, section, ner_model=ner_quantized, extract_annotation_fn=extract_annotation)\n",
    "            if not batch_annotations:\n",
    "                continue\n",
    "    \n",
    "            all_annotations.extend(batch_annotations)\n",
    "    \n",
    "        # Generate tags for annotations- this includes grounded terms and grounded codes.\n",
    "        # Format matched and unmatched JSON structures\n",
    "        # match_json, non_match_json = format_output_annotations(all_linked_annotations, pmcid=pmcid, ft_id=ft_id, PROVIDER=PROVIDER)\n",
    "    \n",
    "        # Return None if both JSONs are empty or have empty 'anns' lists\n",
    "   \n",
    "        print(all_annotations)\n",
    "        # break\n",
    "\n"
   ],
   "outputs": [],
   "execution_count": 11
  },
  {
   "metadata": {
    "ExecuteTime": {
     "end_time": "2024-11-26T15:07:53.065744Z",
     "start_time": "2024-11-26T15:07:15.085165Z"
    }
   },
   "cell_type": "code",
   "source": [
    "session_options = ort.SessionOptions()\n",
    "session_options.intra_op_num_threads = 1  # Limit to a single thread\n",
    "session_options.inter_op_num_threads = 1  # Limit to a single thread\n",
    "\n",
    "# Directly assign the paths\n",
    "input_file = \"/home/stirunag/work/github/CAPITAL/daily_pipeline/notebooks/data/patch_2024_10_28_0.json.gz\"  # Replace with your actual input file\n",
    "model_path_quantised = \"/home/stirunag/work/github/CAPITAL/model/europepmc\"  # Replace with your actual model directory path\n",
    "\n",
    "# Load PROVIDER_1 (europepmc) NER model\n",
    "print(\"Loading NER model and tokenizer from \" + model_path_quantised)\n",
    "ner_quantized = load_ner_model(model_path_quantised, session_options)\n",
    "\n",
    "\n",
    "\n",
    "total_lines = count_lines_in_gzip(input_file)\n",
    "\n",
    "with gzip.open(input_file, \"rt\") as infile:\n",
    "    for line in tqdm(infile, desc=\"Processing lines\", unit=\"line\", total=total_lines):\n",
    "        article_data = json.loads(line)\n",
    "        process_article_generate_jsons(article_data)\n"
   ],
   "id": "df8a105c727177d5",
   "outputs": [
    {
     "name": "stdout",
     "output_type": "stream",
     "text": [
      "Loading NER model and tokenizer from /home/stirunag/work/github/CAPITAL/model/europepmc\n",
      "Loading NER model from /home/stirunag/work/github/CAPITAL/model/europepmc\n",
      "NER model from /home/stirunag/work/github/CAPITAL/model/europepmc loaded successfully.\n"
     ]
    },
    {
     "name": "stderr",
     "output_type": "stream",
     "text": [
      "Processing lines:   0%|          | 0/909 [00:00<?, ?line/s]"
     ]
    },
    {
     "name": "stdout",
     "output_type": "stream",
     "text": [
      "10470160 None\n"
     ]
    },
    {
     "name": "stderr",
     "output_type": "stream",
     "text": [
      "Processing lines:  22%|██▏       | 197/909 [00:04<00:10, 64.83line/s]"
     ]
    },
    {
     "name": "stdout",
     "output_type": "stream",
     "text": [
      "[{'type': 'DS', 'position': '4.17', 'prefix': 'indices to identify', 'exact': 'SDB', 'section': 'Abstract', 'postfix': 'in simulated responses.'}, {'type': 'DS', 'position': '6.45', 'prefix': 'AUCs to detect', 'exact': 'SDB', 'section': 'Abstract', 'postfix': ''}, {'type': 'DS', 'position': '9.27', 'prefix': 'indices to detect', 'exact': 'SDB', 'section': 'Methods', 'postfix': ''}, {'type': 'DS', 'position': '11.17', 'prefix': 'model to simulate', 'exact': 'SDB', 'section': 'Methods', 'postfix': 'in responses, as'}, {'type': 'DS', 'position': '13.23', 'prefix': 'affected by the', 'exact': 'SDB', 'section': 'Methods', 'postfix': 'factor, and one'}, {'type': 'DS', 'position': '13.38', 'prefix': '', 'exact': 'SDB', 'section': 'Methods', 'postfix': ''}, {'type': 'DS', 'position': '14.23', 'prefix': 'researcher, while the', 'exact': 'SDB', 'section': 'Methods', 'postfix': 'factor is the'}, {'type': 'DS', 'position': '14.34', 'prefix': '', 'exact': 'SDB', 'section': 'Methods', 'postfix': ''}, {'type': 'DS', 'position': '18.12', 'prefix': 'scale to detect', 'exact': 'SDB', 'section': 'Methods', 'postfix': 'the MCSDS, has'}, {'type': 'DS', 'position': '32.3', 'prefix': 'To generate', 'exact': 'SDB', 'section': 'Methods', 'postfix': 'scale items, the'}, {'type': 'DS', 'position': '35.15', 'prefix': 'responses affected by', 'exact': 'SDB', 'section': 'Methods', 'postfix': 'which is illustrated'}, {'type': 'DS', 'position': '36.12', 'prefix': 'both focal and', 'exact': 'SDB', 'section': 'Methods', 'postfix': 'factors, but SDB'}, {'type': 'DS', 'position': '36.15', 'prefix': '', 'exact': 'SDB', 'section': 'Methods', 'postfix': ''}, {'type': 'DS', 'position': '36.22', 'prefix': '', 'exact': 'SDB', 'section': 'Methods', 'postfix': ''}, {'type': 'DS', 'position': '37.9', 'prefix': 'not affected by', 'exact': 'SDB', 'section': 'Methods', 'postfix': 'there are no'}, {'type': 'DS', 'position': '43.27', 'prefix': 'of focal and', 'exact': 'SDB', 'section': 'Methods', 'postfix': 'factors were set'}, {'type': 'DS', 'position': '48.23', 'prefix': 'three levels of', 'exact': 'SDB', 'section': 'Methods', 'postfix': '(i.e., size of'}, {'type': 'DS', 'position': '58.10', 'prefix': 'of items in', 'exact': 'SDB', 'section': 'Methods', 'postfix': 'and focal scales'}, {'type': 'DS', 'position': '58.29', 'prefix': '', 'exact': 'SDB', 'section': 'Methods', 'postfix': ''}, {'type': 'DS', 'position': '59.8', 'prefix': 'with focal and', 'exact': 'SDB', 'section': 'Methods', 'postfix': 'scales with 10,'}, {'type': 'DS', 'position': '60.1', 'prefix': '', 'exact': 'SDB', 'section': 'Methods', 'postfix': ''}, {'type': 'DS', 'position': '61.6', 'prefix': 'different degrees of', 'exact': 'SDB', 'section': 'Methods', 'postfix': 'there is only'}, {'type': 'DS', 'position': '61.17', 'prefix': 'knowledge that simulated', 'exact': 'SDB', 'section': 'Methods', 'postfix': 'Leng et al.'}, {'type': 'DS', 'position': '61.37', 'prefix': 'is related to', 'exact': 'SDB', 'section': 'Methods', 'postfix': ''}, {'type': 'DS', 'position': '63.12', 'prefix': 'were selected for', 'exact': 'SDB', 'section': 'Methods', 'postfix': 'cross-loadings to represent'}, {'type': 'DS', 'position': '63.22', 'prefix': '', 'exact': 'SDB', 'section': 'Methods', 'postfix': ''}, {'type': 'DS', 'position': '74.4', 'prefix': 'This is because', 'exact': 'SDB', 'section': 'Methods', 'postfix': 'items are not'}, {'type': 'DS', 'position': '87.6', 'prefix': 'to recognize true', 'exact': 'SDB', 'section': 'Methods', 'postfix': 'in responses (true'}, {'type': 'DS', 'position': '99.12', 'prefix': 'indices to detect', 'exact': 'SDB', 'section': 'Results', 'postfix': ''}, {'type': 'DS', 'position': '103.12', 'prefix': 'indices could detect', 'exact': 'SDB', 'section': 'Results', 'postfix': 'in responses with'}, {'type': 'DS', 'position': '104.9', 'prefix': '* , detected', 'exact': 'SDB', 'section': 'Results', 'postfix': 'similar to a'}, {'type': 'DS', 'position': '107.28', 'prefix': 'the detection of', 'exact': 'SDB', 'section': 'Results', 'postfix': ''}, {'type': 'DS', 'position': '129.22', 'prefix': 'statistics to detect', 'exact': 'SDB', 'section': 'Discussion', 'postfix': 'in responses.'}, {'type': 'DS', 'position': '130.23', 'prefix': 'indices to detect', 'exact': 'SDB', 'section': 'Discussion', 'postfix': 'in a systematic'}, {'type': 'DS', 'position': '131.9', 'prefix': 'evaluating and monitoring', 'exact': 'SDB', 'section': 'Discussion', 'postfix': 'in both large-scale'}, {'type': 'DS', 'position': '132.16', 'prefix': 'the detection of', 'exact': 'SDB', 'section': 'Discussion', 'postfix': 'in item responses.'}, {'type': 'DS', 'position': '136.10', 'prefix': 'index could detect', 'exact': 'SDB', 'section': 'Discussion', 'postfix': 'across all study'}, {'type': 'DS', 'position': '147.25', 'prefix': 'factors to detect', 'exact': 'SDB', 'section': 'Discussion', 'postfix': ''}, {'type': 'DS', 'position': '148.13', 'prefix': 'AUC to detect', 'exact': 'SDB', 'section': 'Discussion', 'postfix': ''}, {'type': 'DS', 'position': '152.12', 'prefix': 'performance to capture', 'exact': 'SDB', 'section': 'Discussion', 'postfix': 'by AUC of'}, {'type': 'DS', 'position': '154.8', 'prefix': 'attempt to address', 'exact': 'SDB', 'section': 'Discussion', 'postfix': 'in any of'}, {'type': 'DS', 'position': '155.18', 'prefix': 'items, but existing', 'exact': 'SDB', 'section': 'Discussion', 'postfix': 'questionnaires often include'}, {'type': 'DS', 'position': '162.8', 'prefix': 'flagged due to', 'exact': 'SDB', 'section': 'Discussion', 'postfix': 'or it could'}, {'type': 'DS', 'position': '163.19', 'prefix': 'to hypothesize that', 'exact': 'SDB', 'section': 'Discussion', 'postfix': 'may be a'}, {'type': 'DS', 'position': '165.18', 'prefix': 'will elicit high', 'exact': 'SDB', 'section': 'Discussion', 'postfix': 'they can apply'}, {'type': 'DS', 'position': '167.36', 'prefix': ', may represent', 'exact': 'SDB', 'section': 'Discussion', 'postfix': 'in responses.'}, {'type': 'DS', 'position': '169.10', 'prefix': 'responses affected by', 'exact': 'SDB', 'section': 'Discussion', 'postfix': 'is large, it'}, {'type': 'DS', 'position': '169.52', 'prefix': ') to reduce', 'exact': 'SDB', 'section': 'Discussion', 'postfix': ''}, {'type': 'DS', 'position': '172.9', 'prefix': 'used to detect', 'exact': 'SDB', 'section': 'Discussion', 'postfix': 'they currently do'}, {'type': 'DS', 'position': '172.24', 'prefix': 'the effects of', 'exact': 'SDB', 'section': 'Discussion', 'postfix': ''}, {'type': 'DS', 'position': '174.26', 'prefix': 'used to detect', 'exact': 'SDB', 'section': 'Discussion', 'postfix': 'without the need'}, {'type': 'DS', 'position': '174.33', 'prefix': '', 'exact': 'SDB', 'section': 'Discussion', 'postfix': ''}, {'type': 'DS', 'position': '175.10', 'prefix': 'used to detect', 'exact': 'SDB', 'section': 'Discussion', 'postfix': 'is Bayesian robust'}, {'type': 'DS', 'position': '178.6', 'prefix': 'methods of identifying', 'exact': 'SDB', 'section': 'Discussion', 'postfix': 'with person-fit indices'}, {'type': 'DS', 'position': '178.27', 'prefix': '', 'exact': 'SDB', 'section': 'Discussion', 'postfix': ''}, {'type': 'DS', 'position': '467.4', 'prefix': 'Simulation Model Using', 'exact': 'SDB', 'section': 'Other', 'postfix': 'Factor and Focal'}, {'type': 'DS', 'position': '469.1', 'prefix': '', 'exact': 'SDB', 'section': 'Other', 'postfix': '= social desirability'}, {'type': 'DS', 'position': '475.9', 'prefix': 'attempted to address', 'exact': 'SDB', 'section': 'Other', 'postfix': 'using three different'}, {'type': 'DS', 'position': '477.11', 'prefix': 'methods to address', 'exact': 'SDB', 'section': 'Other', 'postfix': ''}, {'type': 'DS', 'position': '478.31', 'prefix': 'responses affected by', 'exact': 'SDB', 'section': 'Other', 'postfix': ''}, {'type': 'DS', 'position': '481.1', 'prefix': '', 'exact': 'SDB', 'section': 'Other', 'postfix': 'usually occurs when'}, {'type': 'DS', 'position': '485.2', 'prefix': 'Once', 'exact': 'SDB', 'section': 'Other', 'postfix': 'scores are obtained,'}, {'type': 'DS', 'position': '485.14', 'prefix': '', 'exact': 'SDB', 'section': 'Other', 'postfix': ''}, {'type': 'DS', 'position': '485.21', 'prefix': '', 'exact': 'SDB', 'section': 'Other', 'postfix': ''}, {'type': 'DS', 'position': '486.29', 'prefix': 'scores affected by', 'exact': 'SDB', 'section': 'Other', 'postfix': ''}, {'type': 'DS', 'position': '487.9', 'prefix': 'latent factor for', 'exact': 'SDB', 'section': 'Other', 'postfix': 'which influences item'}, {'type': 'DS', 'position': '490.9', 'prefix': 'the focal and', 'exact': 'SDB', 'section': 'Other', 'postfix': 'scales may be'}, {'type': 'DS', 'position': '496.7', 'prefix': 'is to address', 'exact': 'SDB', 'section': 'Other', 'postfix': 'with statistical methods'}, {'type': 'DS', 'position': '496.16', 'prefix': '', 'exact': 'SDB', 'section': 'Other', 'postfix': ''}, {'type': 'DS', 'position': '509.16', 'prefix': 'methods to detect', 'exact': 'SDB', 'section': 'Other', 'postfix': 'which are also'}, {'type': 'DS', 'position': '512.18', 'prefix': 'statistics to detect', 'exact': 'SDB', 'section': 'Other', 'postfix': 'in responses.'}, {'type': 'DS', 'position': '513.19', 'prefix': 'either administering an', 'exact': 'SDB', 'section': 'Other', 'postfix': 'scale accompanied by'}, {'type': 'DS', 'position': '514.17', 'prefix': 'indices to detect', 'exact': 'SDB', 'section': 'Other', 'postfix': 'in individual responses'}, {'type': 'DS', 'position': '548.11', 'prefix': 'used to detect', 'exact': 'SDB', 'section': 'Other', 'postfix': 'the current study'}, {'type': 'DS', 'position': '548.28', 'prefix': '', 'exact': 'SDB', 'section': 'Other', 'postfix': ''}, {'type': 'DS', 'position': '549.43', 'prefix': '(e.g., careless responding,', 'exact': 'SDB', 'section': 'Other', 'postfix': 'guessing).'}]\n",
      "11249782 None\n"
     ]
    },
    {
     "name": "stderr",
     "output_type": "stream",
     "text": [
      "Processing lines:  47%|████▋     | 424/909 [00:32<00:33, 14.50line/s]"
     ]
    },
    {
     "name": "stdout",
     "output_type": "stream",
     "text": [
      "[{'type': 'CD', 'position': '491.0', 'prefix': '', 'exact': 'dots', 'section': 'Other', 'postfix': ''}, {'type': 'CD', 'position': '491.0', 'prefix': '', 'exact': 'dots', 'section': 'Other', 'postfix': ''}]\n",
      "11325299 None\n"
     ]
    },
    {
     "name": "stderr",
     "output_type": "stream",
     "text": [
      "Processing lines:  62%|██████▏   | 563/909 [00:32<00:14, 23.32line/s]"
     ]
    },
    {
     "name": "stdout",
     "output_type": "stream",
     "text": [
      "[]\n",
      "11328371 None\n"
     ]
    },
    {
     "name": "stderr",
     "output_type": "stream",
     "text": [
      "Processing lines:  84%|████████▎ | 760/909 [00:36<00:04, 34.38line/s]"
     ]
    },
    {
     "name": "stdout",
     "output_type": "stream",
     "text": [
      "[]\n",
      "11316869 None\n"
     ]
    },
    {
     "name": "stderr",
     "output_type": "stream",
     "text": [
      "Processing lines: 100%|██████████| 909/909 [00:37<00:00, 24.49line/s]"
     ]
    },
    {
     "name": "stdout",
     "output_type": "stream",
     "text": [
      "[]\n"
     ]
    },
    {
     "name": "stderr",
     "output_type": "stream",
     "text": [
      "\n"
     ]
    }
   ],
   "execution_count": 12
  },
  {
   "metadata": {},
   "cell_type": "code",
   "outputs": [],
   "execution_count": null,
   "source": "",
   "id": "a82e2359de8772f0"
  }
 ],
 "metadata": {
  "kernelspec": {
   "display_name": "Python (falconframes_env)",
   "language": "python",
   "name": "falconframes_env"
  },
  "language_info": {
   "codemirror_mode": {
    "name": "ipython",
    "version": 2
   },
   "file_extension": ".py",
   "mimetype": "text/x-python",
   "name": "python",
   "nbconvert_exporter": "python",
   "pygments_lexer": "ipython2",
   "version": "2.7.6"
  }
 },
 "nbformat": 4,
 "nbformat_minor": 5
}
