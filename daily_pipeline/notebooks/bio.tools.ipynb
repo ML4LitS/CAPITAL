{
 "cells": [
  {
   "cell_type": "code",
   "execution_count": null,
   "id": "initial_id",
   "metadata": {
    "collapsed": true
   },
   "outputs": [],
   "source": [
    "from extract_data.extract_id_list import pmcid\n",
    "\n",
    "We use this API \n",
    "\n",
    "[ vocab_list = ['tool1', 'tool2', 'tool3', 'tool4', 'tool5', 'tool6', 'tool7', 'tool8', ..  'tool16000']"
   ]
  },
  {
   "metadata": {},
   "cell_type": "code",
   "outputs": [],
   "execution_count": null,
   "source": [
    "for each_vocab_tool in vocab_list:\n",
    "    'https://www.ebi.ac.uk/europepmc/webservices/rest/search?query='+each_vocab_tool+'&resultType=core&cursorMark=*&pageSize=1&format=json\n",
    "    we get the pmcid\n",
    "    \n",
    "    url = f\"https://www.ebi.ac.uk/europepmc/webservices/rest/{pmcid}/fullTextXML\"\n",
    "    \n",
    "    get sentences and find the each_vocab_tool in the sentence. \n",
    "    \n",
    "    ['start_span', 'end_span', 'text', 'bio_tool']"
   ],
   "id": "fb8415c89170dab3"
  }
 ],
 "metadata": {
  "kernelspec": {
   "display_name": "Python 3",
   "language": "python",
   "name": "python3"
  },
  "language_info": {
   "codemirror_mode": {
    "name": "ipython",
    "version": 2
   },
   "file_extension": ".py",
   "mimetype": "text/x-python",
   "name": "python",
   "nbconvert_exporter": "python",
   "pygments_lexer": "ipython2",
   "version": "2.7.6"
  }
 },
 "nbformat": 4,
 "nbformat_minor": 5
}
