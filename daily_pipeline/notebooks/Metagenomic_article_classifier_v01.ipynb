{
 "cells": [
  {
   "cell_type": "code",
   "id": "initial_id",
   "metadata": {
    "collapsed": true,
    "ExecuteTime": {
     "end_time": "2024-11-18T17:41:23.372790Z",
     "start_time": "2024-11-18T17:41:17.882443Z"
    }
   },
   "source": [
    "from sklearn.preprocessing import LabelEncoder\n",
    "import pandas as pd\n",
    "import gzip\n",
    "import json\n",
    "from matplotlib import pyplot as plt\n",
    "\n",
    "def load_jsonlines_to_df(file_path):\n",
    "    \"\"\"\n",
    "    Loads a gzipped JSON Lines file into a Pandas DataFrame,\n",
    "    processes the 'accession_type' to ensure it's a single string label,\n",
    "    balances the dataset by sampling up to 10000 instances per class,\n",
    "    and selects only the specified columns.\n",
    "\n",
    "    :param file_path: Path to the .jsonl.gz file.\n",
    "    :return: A balanced Pandas DataFrame with selected columns and a LabelEncoder.\n",
    "    \"\"\"\n",
    "    with gzip.open(file_path, 'rt', encoding='utf-8') as gzfile:\n",
    "        data = [json.loads(line) for line in gzfile]\n",
    "    \n",
    "    columns_to_keep = ['abstract', 'accession_type']\n",
    "    \n",
    "    # Create DataFrame\n",
    "    df = pd.DataFrame(data)\n",
    "    df = df[columns_to_keep]\n",
    "    \n",
    "    # Ensure 'accession_type' exists\n",
    "    if 'accession_type' not in df.columns:\n",
    "        raise KeyError(\"Column 'accession_type' not found in the dataset.\")\n",
    "    \n",
    "    # Process 'accession_type' to ensure it's a single string\n",
    "    df['accession_type'] = df['accession_type'].apply(\n",
    "        lambda labels: 'metagenomics' if 'metagenomics' in labels else 'other'\n",
    "    )\n",
    "    \n",
    "    # Encode 'accession_type' into 'label'\n",
    "    label_encoder = LabelEncoder()\n",
    "    df['label'] = label_encoder.fit_transform(df['accession_type'])\n",
    "    \n",
    "    # # Balance the dataset: sample up to 10000 instances per class\n",
    "    # df_balanced = df.groupby('accession_type').apply(\n",
    "    #     lambda x: x.sample(n=min(500, len(x)), random_state=0)\n",
    "    # ).reset_index(drop=True)\n",
    "\n",
    "    df_balanced = df.copy()\n",
    "    # Diagnostic Checks\n",
    "    print(f\"Loaded DataFrame shape: {df_balanced.shape}\")\n",
    "    print(\"Label distribution after balancing:\")\n",
    "    print(df_balanced['accession_type'].value_counts())\n",
    "    print(\"\\nSample data:\")\n",
    "    print(df_balanced.head())\n",
    "    \n",
    "    df_balanced.rename(columns={'accession_type': 'class_label'}, inplace=True)\n",
    "    return df_balanced, label_encoder\n",
    "\n",
    "# File paths\n",
    "file_path = '/home/stirunag/work/github/article_classifier/data/final_multi_label_trainingset.jsonl.gz'\n",
    "\n",
    "data, label_encoder = load_jsonlines_to_df(file_path)\n",
    "# Sample size\n",
    "# n = 10000  # Set your desired sample size\n",
    "# \n",
    "data\n",
    "# \n",
    "# data"
   ],
   "outputs": [
    {
     "name": "stdout",
     "output_type": "stream",
     "text": [
      "Loaded DataFrame shape: (219802, 3)\n",
      "Label distribution after balancing:\n",
      "accession_type\n",
      "other           210302\n",
      "metagenomics      9500\n",
      "Name: count, dtype: int64\n",
      "\n",
      "Sample data:\n",
      "                                            abstract accession_type  label\n",
      "0  Down-regulation of the Drosophila ribosomal pr...          other      1\n",
      "1  Human chromosomal region 1q24 encodes two clon...          other      1\n",
      "2  A bovine plasminogen activator was purified fr...          other      1\n",
      "3  Staphylococcus aureus and Staphylococcus epide...          other      1\n",
      "4  Kinetic analysis of two mutations within Pseud...          other      1\n"
     ]
    },
    {
     "data": {
      "text/plain": [
       "                                                 abstract class_label  label\n",
       "0       Down-regulation of the Drosophila ribosomal pr...       other      1\n",
       "1       Human chromosomal region 1q24 encodes two clon...       other      1\n",
       "2       A bovine plasminogen activator was purified fr...       other      1\n",
       "3       Staphylococcus aureus and Staphylococcus epide...       other      1\n",
       "4       Kinetic analysis of two mutations within Pseud...       other      1\n",
       "...                                                   ...         ...    ...\n",
       "219797  Kaposi's sarcoma-associated herpesvirus (KSHV)...       other      1\n",
       "219798  The pathway of autotrophic CO2 fixation was st...       other      1\n",
       "219799  The mannose-sensitive hemagglutinin (MSHA) of ...       other      1\n",
       "219800  Pseudomonas putida GJ31 contains an unusual ca...       other      1\n",
       "219801  Most isolates of Salmonella enterica serovar T...       other      1\n",
       "\n",
       "[219802 rows x 3 columns]"
      ],
      "text/html": [
       "<div>\n",
       "<style scoped>\n",
       "    .dataframe tbody tr th:only-of-type {\n",
       "        vertical-align: middle;\n",
       "    }\n",
       "\n",
       "    .dataframe tbody tr th {\n",
       "        vertical-align: top;\n",
       "    }\n",
       "\n",
       "    .dataframe thead th {\n",
       "        text-align: right;\n",
       "    }\n",
       "</style>\n",
       "<table border=\"1\" class=\"dataframe\">\n",
       "  <thead>\n",
       "    <tr style=\"text-align: right;\">\n",
       "      <th></th>\n",
       "      <th>abstract</th>\n",
       "      <th>class_label</th>\n",
       "      <th>label</th>\n",
       "    </tr>\n",
       "  </thead>\n",
       "  <tbody>\n",
       "    <tr>\n",
       "      <th>0</th>\n",
       "      <td>Down-regulation of the Drosophila ribosomal pr...</td>\n",
       "      <td>other</td>\n",
       "      <td>1</td>\n",
       "    </tr>\n",
       "    <tr>\n",
       "      <th>1</th>\n",
       "      <td>Human chromosomal region 1q24 encodes two clon...</td>\n",
       "      <td>other</td>\n",
       "      <td>1</td>\n",
       "    </tr>\n",
       "    <tr>\n",
       "      <th>2</th>\n",
       "      <td>A bovine plasminogen activator was purified fr...</td>\n",
       "      <td>other</td>\n",
       "      <td>1</td>\n",
       "    </tr>\n",
       "    <tr>\n",
       "      <th>3</th>\n",
       "      <td>Staphylococcus aureus and Staphylococcus epide...</td>\n",
       "      <td>other</td>\n",
       "      <td>1</td>\n",
       "    </tr>\n",
       "    <tr>\n",
       "      <th>4</th>\n",
       "      <td>Kinetic analysis of two mutations within Pseud...</td>\n",
       "      <td>other</td>\n",
       "      <td>1</td>\n",
       "    </tr>\n",
       "    <tr>\n",
       "      <th>...</th>\n",
       "      <td>...</td>\n",
       "      <td>...</td>\n",
       "      <td>...</td>\n",
       "    </tr>\n",
       "    <tr>\n",
       "      <th>219797</th>\n",
       "      <td>Kaposi's sarcoma-associated herpesvirus (KSHV)...</td>\n",
       "      <td>other</td>\n",
       "      <td>1</td>\n",
       "    </tr>\n",
       "    <tr>\n",
       "      <th>219798</th>\n",
       "      <td>The pathway of autotrophic CO2 fixation was st...</td>\n",
       "      <td>other</td>\n",
       "      <td>1</td>\n",
       "    </tr>\n",
       "    <tr>\n",
       "      <th>219799</th>\n",
       "      <td>The mannose-sensitive hemagglutinin (MSHA) of ...</td>\n",
       "      <td>other</td>\n",
       "      <td>1</td>\n",
       "    </tr>\n",
       "    <tr>\n",
       "      <th>219800</th>\n",
       "      <td>Pseudomonas putida GJ31 contains an unusual ca...</td>\n",
       "      <td>other</td>\n",
       "      <td>1</td>\n",
       "    </tr>\n",
       "    <tr>\n",
       "      <th>219801</th>\n",
       "      <td>Most isolates of Salmonella enterica serovar T...</td>\n",
       "      <td>other</td>\n",
       "      <td>1</td>\n",
       "    </tr>\n",
       "  </tbody>\n",
       "</table>\n",
       "<p>219802 rows × 3 columns</p>\n",
       "</div>"
      ]
     },
     "execution_count": 19,
     "metadata": {},
     "output_type": "execute_result"
    }
   ],
   "execution_count": 19
  },
  {
   "metadata": {
    "ExecuteTime": {
     "end_time": "2024-11-18T17:41:57.130733Z",
     "start_time": "2024-11-18T17:41:27.001546Z"
    }
   },
   "cell_type": "code",
   "source": [
    "import re\n",
    "from nltk.corpus import stopwords\n",
    "import nltk\n",
    "\n",
    "# Download stopwords if not already downloaded\n",
    "nltk.download('stopwords')\n",
    "\n",
    "def preprocess_text(text):\n",
    "    # Lowercase the text\n",
    "    text = text.lower()\n",
    "    # Remove special characters and digits\n",
    "    text = re.sub(r'[^\\w\\s]', '', text)\n",
    "    text = re.sub(r'\\d+', '', text)\n",
    "    # Remove stopwords\n",
    "    stop_words = set(stopwords.words('english'))\n",
    "    text = ' '.join([word for word in text.split() if word not in stop_words])\n",
    "    return text\n",
    "\n",
    "data['cleaned_abstract'] = data['abstract'].apply(preprocess_text)\n"
   ],
   "id": "d766b0d6a1928563",
   "outputs": [
    {
     "name": "stderr",
     "output_type": "stream",
     "text": [
      "[nltk_data] Downloading package stopwords to\n",
      "[nltk_data]     /home/stirunag/nltk_data...\n",
      "[nltk_data]   Package stopwords is already up-to-date!\n"
     ]
    }
   ],
   "execution_count": 20
  },
  {
   "metadata": {
    "ExecuteTime": {
     "end_time": "2024-11-18T17:42:04.309345Z",
     "start_time": "2024-11-18T17:41:57.134790Z"
    }
   },
   "cell_type": "code",
   "source": [
    "import spacy\n",
    "# Load spaCy model\n",
    "nlp = spacy.load(\"en_core_sci_md\")\n"
   ],
   "id": "1a1cc0c551b5a614",
   "outputs": [],
   "execution_count": 21
  },
  {
   "metadata": {
    "ExecuteTime": {
     "end_time": "2024-11-18T18:52:30.882377Z",
     "start_time": "2024-11-18T17:42:04.324627Z"
    }
   },
   "cell_type": "code",
   "source": [
    "# Generate spaCy embeddings\n",
    "from tqdm import tqdm\n",
    "\n",
    "def get_embedding(text, model):\n",
    "    doc = model(text)\n",
    "    return doc.vector  # Returns a 300-dimensional vector\n",
    "\n",
    "\n",
    "\n",
    "# Enable tqdm for pandas\n",
    "tqdm.pandas(desc=\"Generating Embeddings\")\n",
    "# Apply embeddings with progress tracking\n",
    "data['embedding'] = data['cleaned_abstract'].progress_apply(lambda x: get_embedding(x, nlp))\n"
   ],
   "id": "808ff777ded4f6d0",
   "outputs": [
    {
     "name": "stderr",
     "output_type": "stream",
     "text": [
      "Generating Embeddings: 100%|██████████| 219802/219802 [1:10:26<00:00, 52.01it/s]\n"
     ]
    }
   ],
   "execution_count": 22
  },
  {
   "metadata": {
    "ExecuteTime": {
     "end_time": "2024-11-18T18:55:42.540840Z",
     "start_time": "2024-11-18T18:53:09.587568Z"
    }
   },
   "cell_type": "code",
   "source": "data.to_csv('scispacy_embeddings.csv', index=False)",
   "id": "8c68566bbfc805b0",
   "outputs": [],
   "execution_count": 23
  },
  {
   "metadata": {
    "ExecuteTime": {
     "end_time": "2024-11-18T18:55:48.664178Z",
     "start_time": "2024-11-18T18:55:48.038104Z"
    }
   },
   "cell_type": "code",
   "source": [
    "# Separate embeddings by class\n",
    "import numpy as np\n",
    "metagenomics_embeddings = np.vstack(data[data['class_label'] == 'metagenomics']['embedding'].values)\n",
    "other_embeddings = np.vstack(data[data['class_label'] == 'other']['embedding'].values)\n",
    "\n",
    "# Compute class-level mean embeddings\n",
    "mean_metagenomics = np.mean(metagenomics_embeddings, axis=0)\n",
    "mean_other = np.mean(other_embeddings, axis=0)\n"
   ],
   "id": "12f1d9ce324dc39a",
   "outputs": [],
   "execution_count": 24
  },
  {
   "metadata": {
    "ExecuteTime": {
     "end_time": "2024-11-18T18:57:38.459185Z",
     "start_time": "2024-11-18T18:55:50.133871Z"
    }
   },
   "cell_type": "code",
   "source": [
    "from sklearn.metrics.pairwise import cosine_similarity\n",
    "\n",
    "# Compute similarity scores\n",
    "data['similarity_to_metagenomics'] = data['embedding'].apply(lambda x: cosine_similarity([x], [mean_metagenomics])[0][0])\n",
    "data['similarity_to_other'] = data['embedding'].apply(lambda x: cosine_similarity([x], [mean_other])[0][0])\n",
    "\n",
    "# Compute absolute difference as overlap score\n",
    "data['overlap_score'] = np.abs(data['similarity_to_metagenomics'] - data['similarity_to_other'])\n"
   ],
   "id": "51857077f603f6b6",
   "outputs": [],
   "execution_count": 25
  },
  {
   "metadata": {
    "ExecuteTime": {
     "end_time": "2024-11-18T18:57:46.776986Z",
     "start_time": "2024-11-18T18:57:44.128846Z"
    }
   },
   "cell_type": "code",
   "source": [
    "import matplotlib.pyplot as plt\n",
    "import seaborn as sns\n",
    "\n",
    "# Plot similarity_to_metagenomics\n",
    "plt.figure(figsize=(10, 6))\n",
    "sns.kdeplot(data['similarity_to_metagenomics'], label='Similarity to Metagenomics', fill=True, alpha=0.6)\n",
    "sns.kdeplot(data['similarity_to_other'], label='Similarity to Other', fill=True, alpha=0.6)\n",
    "plt.title('Similarity Scores Distribution')\n",
    "plt.xlabel('Similarity Score')\n",
    "plt.ylabel('Density')\n",
    "plt.legend()\n",
    "plt.show()\n",
    "\n",
    "# Plot overlap_score\n",
    "plt.figure(figsize=(10, 6))\n",
    "sns.kdeplot(data['overlap_score'], label='Overlap Score', fill=True, alpha=0.6, color='red')\n",
    "plt.title('Overlap Score Distribution')\n",
    "plt.xlabel('Overlap Score')\n",
    "plt.ylabel('Density')\n",
    "plt.legend()\n",
    "plt.show()\n"
   ],
   "id": "af248bb9fbcb6d03",
   "outputs": [
    {
     "data": {
      "text/plain": [
       "<Figure size 1000x600 with 1 Axes>"
      ],
      "image/png": "[encoded data removed]"
     },
     "metadata": {},
     "output_type": "display_data"
    },
    {
     "data": {
      "text/plain": [
       "<Figure size 1000x600 with 1 Axes>"
      ],
      "image/png": "[encoded data removed]"
     },
     "metadata": {},
     "output_type": "display_data"
    }
   ],
   "execution_count": 26
  },
  {
   "metadata": {
    "ExecuteTime": {
     "end_time": "2024-11-19T11:30:49.147801Z",
     "start_time": "2024-11-19T11:30:49.114032Z"
    }
   },
   "cell_type": "code",
   "source": [
    "threshold = .10  # Example threshold for overlap\n",
    "non_overlapping_data = data[data['overlap_score'] > threshold]\n",
    "overlapping_data = data[data['overlap_score'] <= threshold]\n",
    "\n",
    "print(f\"Non-overlapping data size: {non_overlapping_data.shape[0]}\")\n",
    "print(f\"Overlapping data size: {overlapping_data.shape[0]}\")\n"
   ],
   "id": "b4f631835bafa03f",
   "outputs": [
    {
     "name": "stdout",
     "output_type": "stream",
     "text": [
      "Non-overlapping data size: 59339\n",
      "Overlapping data size: 160463\n"
     ]
    }
   ],
   "execution_count": 48
  },
  {
   "metadata": {
    "ExecuteTime": {
     "end_time": "2024-11-19T11:30:50.822561Z",
     "start_time": "2024-11-19T11:30:50.227026Z"
    }
   },
   "cell_type": "code",
   "source": [
    "from sklearn.model_selection import train_test_split\n",
    "from sklearn.linear_model import LogisticRegression\n",
    "from sklearn.metrics import classification_report\n",
    "\n",
    "# Prepare non-overlapping data\n",
    "X_non_overlap = np.vstack(non_overlapping_data['embedding'].values)\n",
    "y_non_overlap = non_overlapping_data['class_label']\n",
    "\n",
    "# Split data\n",
    "y_encoded = label_encoder.fit_transform(y_non_overlap)\n",
    "X_train, X_test, y_train, y_test = train_test_split(X_non_overlap, y_encoded, test_size=0.4, random_state=42)\n",
    "\n",
    "# Train Logistic Regression\n",
    "clf = LogisticRegression(max_iter=1000, class_weight='balanced', random_state=42)\n",
    "clf.fit(X_train, y_train)\n",
    "\n",
    "# Evaluate\n",
    "y_pred = clf.predict(X_test)\n",
    "print(classification_report(y_test, y_pred))\n"
   ],
   "id": "7060fa894819923d",
   "outputs": [
    {
     "name": "stdout",
     "output_type": "stream",
     "text": [
      "              precision    recall  f1-score   support\n",
      "\n",
      "           0       0.23      0.88      0.36       778\n",
      "           1       1.00      0.90      0.94     22958\n",
      "\n",
      "    accuracy                           0.90     23736\n",
      "   macro avg       0.61      0.89      0.65     23736\n",
      "weighted avg       0.97      0.90      0.93     23736\n",
      "\n"
     ]
    }
   ],
   "execution_count": 49
  },
  {
   "metadata": {
    "ExecuteTime": {
     "end_time": "2024-11-19T11:30:59.842785Z",
     "start_time": "2024-11-19T11:30:57.566200Z"
    }
   },
   "cell_type": "code",
   "source": [
    "import lightgbm as lgb\n",
    "train_data = lgb.Dataset(X_train, label=y_train)\n",
    "params = {\n",
    "    'objective': 'multiclass',\n",
    "    'num_class': len(set(y_encoded)),\n",
    "    'metric': 'multi_logloss',\n",
    "    'is_unbalance': True,\n",
    "    'boosting_type': 'gbdt',\n",
    "    'learning_rate': 0.1,\n",
    "    'num_leaves': 31,\n",
    "}\n",
    "lightgbm_clf = lgb.train(params, train_data, num_boost_round=100)\n",
    "lightgbm_preds_proba = lightgbm_clf.predict(X_test)\n",
    "lightgbm_preds = np.argmax(lightgbm_preds_proba, axis=1)\n",
    "print(classification_report(y_test, lightgbm_preds))"
   ],
   "id": "15c06e12040f8c3c",
   "outputs": [
    {
     "name": "stdout",
     "output_type": "stream",
     "text": [
      "[LightGBM] [Info] Auto-choosing col-wise multi-threading, the overhead of testing was 0.080208 seconds.\n",
      "You can set `force_col_wise=true` to remove the overhead.\n",
      "[LightGBM] [Info] Total Bins 51000\n",
      "[LightGBM] [Info] Number of data points in the train set: 35603, number of used features: 200\n",
      "[LightGBM] [Info] Start training from score -3.297833\n",
      "[LightGBM] [Info] Start training from score -0.037664\n",
      "              precision    recall  f1-score   support\n",
      "\n",
      "           0       0.54      0.28      0.37       778\n",
      "           1       0.98      0.99      0.98     22958\n",
      "\n",
      "    accuracy                           0.97     23736\n",
      "   macro avg       0.76      0.64      0.68     23736\n",
      "weighted avg       0.96      0.97      0.96     23736\n",
      "\n"
     ]
    }
   ],
   "execution_count": 50
  },
  {
   "metadata": {
    "ExecuteTime": {
     "end_time": "2024-11-19T11:25:27.338809Z",
     "start_time": "2024-11-19T11:25:27.332632Z"
    }
   },
   "cell_type": "code",
   "source": "",
   "id": "9c9fbba6364730b2",
   "outputs": [
    {
     "data": {
      "text/plain": [
       "array([1, 1, 1, ..., 1, 1, 1])"
      ]
     },
     "execution_count": 41,
     "metadata": {},
     "output_type": "execute_result"
    }
   ],
   "execution_count": 41
  },
  {
   "metadata": {},
   "cell_type": "code",
   "outputs": [],
   "execution_count": null,
   "source": "",
   "id": "e9159a5a8e989ad3"
  }
 ],
 "metadata": {
  "kernelspec": {
   "display_name": "Python 3",
   "language": "python",
   "name": "python3"
  },
  "language_info": {
   "codemirror_mode": {
    "name": "ipython",
    "version": 2
   },
   "file_extension": ".py",
   "mimetype": "text/x-python",
   "name": "python",
   "nbconvert_exporter": "python",
   "pygments_lexer": "ipython2",
   "version": "2.7.6"
  }
 },
 "nbformat": 4,
 "nbformat_minor": 5
}
